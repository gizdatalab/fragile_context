{
  "nbformat": 4,
  "nbformat_minor": 0,
  "metadata": {
    "colab": {
      "name": "SocialMediaListening.ipynb",
      "provenance": [],
      "collapsed_sections": [],
      "toc_visible": true,
      "authorship_tag": "ABX9TyN3/TbFACjYUk8GQAHzayip",
      "include_colab_link": true
    },
    "kernelspec": {
      "name": "python3",
      "display_name": "Python 3"
    }
  },
  "cells": [
    {
      "cell_type": "markdown",
      "metadata": {
        "id": "view-in-github",
        "colab_type": "text"
      },
      "source": [
        "<a href=\"https://colab.research.google.com/github/gizdatalab/fragile_context/blob/master/SocialMediaListening.ipynb\" target=\"_parent\"><img src=\"https://colab.research.google.com/assets/colab-badge.svg\" alt=\"Open In Colab\"/></a>"
      ]
    },
    {
      "cell_type": "markdown",
      "metadata": {
        "id": "q-Fhzwm4AFgU",
        "colab_type": "text"
      },
      "source": [
        "# Social Media Listening"
      ]
    },
    {
      "cell_type": "markdown",
      "metadata": {
        "id": "r-zpL-NeAK5S",
        "colab_type": "text"
      },
      "source": [
        "## Facebook & Instagram\n",
        "https://developers.facebook.com/docs/graph-api?locale=de_DE\n",
        "  * free: scraping profile from open accounts\n",
        "  * hashtag search only via graph-api, but limited"
      ]
    },
    {
      "cell_type": "markdown",
      "metadata": {
        "id": "hkvPcd6IALMR",
        "colab_type": "text"
      },
      "source": [
        "## Twitter\n",
        "https://developer.twitter.com/en/products/twitter-api  \n",
        "*  free: scraping profiles and hashtags, also historical (limited amount)\n",
        "* twitter api with corporate packages for full access \n",
        "    \n"
      ]
    },
    {
      "cell_type": "markdown",
      "metadata": {
        "id": "GlITt2UBO4rg",
        "colab_type": "text"
      },
      "source": [
        "##GDELT\n",
        "latform that monitors the world's news media from nearly every corner of every country in print, broadcast, and web formats, in over 100 languages, every moment of every day and that stretches back to January 1, 1979 through present day, with daily updates..."
      ]
    },
    {
      "cell_type": "markdown",
      "metadata": {
        "id": "LOquGai5yD6X",
        "colab_type": "text"
      },
      "source": [
        "# Twitter Scraping"
      ]
    },
    {
      "cell_type": "markdown",
      "metadata": {
        "id": "NGrH9UWBqMEw",
        "colab_type": "text"
      },
      "source": [
        "## get connection to databasae (drive)"
      ]
    },
    {
      "cell_type": "code",
      "metadata": {
        "id": "YrX7NUdKQaYt",
        "colab_type": "code",
        "colab": {
          "base_uri": "https://localhost:8080/",
          "height": 35
        },
        "outputId": "347e5ede-196f-49dd-f98c-85f4c2e69830"
      },
      "source": [
        "from google.colab import drive, files\n",
        "\n",
        "drive.mount('/content/gdrive')\n",
        "path_drive ='/content/gdrive/My Drive/giz/fragil/'"
      ],
      "execution_count": null,
      "outputs": [
        {
          "output_type": "stream",
          "text": [
            "Mounted at /content/gdrive\n"
          ],
          "name": "stdout"
        }
      ]
    },
    {
      "cell_type": "markdown",
      "metadata": {
        "id": "4dwNlN_LqRYv",
        "colab_type": "text"
      },
      "source": [
        "## get project code from github"
      ]
    },
    {
      "cell_type": "code",
      "metadata": {
        "id": "Pg56Qr9daKMi",
        "colab_type": "code",
        "colab": {
          "base_uri": "https://localhost:8080/",
          "height": 124
        },
        "outputId": "e0de4135-29ef-4fd4-e22a-b5daf8bc63ca"
      },
      "source": [
        "!git clone 'https://github.com/gizdatalab/fragile_context'"
      ],
      "execution_count": null,
      "outputs": [
        {
          "output_type": "stream",
          "text": [
            "Cloning into 'fragile_context'...\n",
            "remote: Enumerating objects: 57, done.\u001b[K\n",
            "remote: Counting objects: 100% (57/57), done.\u001b[K\n",
            "remote: Compressing objects: 100% (54/54), done.\u001b[K\n",
            "remote: Total 57 (delta 31), reused 0 (delta 0), pack-reused 0\u001b[K\n",
            "Unpacking objects: 100% (57/57), done.\n"
          ],
          "name": "stdout"
        }
      ]
    },
    {
      "cell_type": "markdown",
      "metadata": {
        "id": "xFzIV1WuqV0j",
        "colab_type": "text"
      },
      "source": [
        "## install required packages"
      ]
    },
    {
      "cell_type": "code",
      "metadata": {
        "id": "DLxlpUZtbpXe",
        "colab_type": "code",
        "colab": {}
      },
      "source": [
        "%%capture\n",
        "!pip install -r 'fragile_context/requirements.txt'"
      ],
      "execution_count": null,
      "outputs": []
    },
    {
      "cell_type": "code",
      "metadata": {
        "id": "FVX7UuxtaWcZ",
        "colab_type": "code",
        "colab": {}
      },
      "source": [
        "from fragile_context import twitter_fct\n",
        "import pandas as pd\n",
        "import matplotlib\n",
        "matplotlib.use('Agg')\n",
        "import matplotlib.pyplot as plt\n",
        "%matplotlib inline \n",
        "\n",
        "from datetime import timedelta\n",
        "from string import ascii_letters, digits\n",
        "from os import mkdir, path\n",
        "import twint\n"
      ],
      "execution_count": null,
      "outputs": []
    },
    {
      "cell_type": "code",
      "metadata": {
        "id": "6-Ac2QL_AAoX",
        "colab_type": "code",
        "colab": {}
      },
      "source": [
        "%%capture\n",
        "!twint -u GIZ_Data_Lab --csv --output giz.csv --lang en --limit 1 "
      ],
      "execution_count": null,
      "outputs": []
    },
    {
      "cell_type": "code",
      "metadata": {
        "id": "guxTKZqPRve8",
        "colab_type": "code",
        "colab": {
          "base_uri": "https://localhost:8080/",
          "height": 639
        },
        "outputId": "d1a3d5d7-dcfe-4094-815e-1673a9c14ad6"
      },
      "source": [
        "df = pd.read_csv('giz.csv')\n",
        "df.iloc[0].T"
      ],
      "execution_count": null,
      "outputs": [
        {
          "output_type": "execute_result",
          "data": {
            "text/plain": [
              "id                                               1304759444140683264\n",
              "conversation_id                                  1304759444140683264\n",
              "created_at                                             1599913867000\n",
              "date                                                      2020-09-12\n",
              "time                                                        12:31:07\n",
              "timezone                                                         UTC\n",
              "user_id                                          1254762450475528192\n",
              "username                                                giz_data_lab\n",
              "name                                                    GIZ Data Lab\n",
              "place                                                            NaN\n",
              "tweet              This week we visited @roblohmeyer & @finitodem...\n",
              "mentions                           ['roblohmeyer', 'finitodemunich']\n",
              "urls                                                              []\n",
              "photos             ['https://pbs.twimg.com/media/Ehts0OeWkAETJ6g....\n",
              "replies_count                                                      0\n",
              "retweets_count                                                     4\n",
              "likes_count                                                       18\n",
              "hashtags                               ['#siemensailab', '#ai4good']\n",
              "cashtags                                                          []\n",
              "link               https://twitter.com/GIZ_Data_Lab/status/130475...\n",
              "retweet                                                        False\n",
              "quote_url                                                        NaN\n",
              "video                                                              0\n",
              "near                                                             NaN\n",
              "geo                                                              NaN\n",
              "source                                                           NaN\n",
              "user_rt_id                                                       NaN\n",
              "user_rt                                                          NaN\n",
              "retweet_id                                                       NaN\n",
              "reply_to           [{'user_id': '1254762450475528192', 'username'...\n",
              "retweet_date                                                     NaN\n",
              "translate                                                        NaN\n",
              "trans_src                                                        NaN\n",
              "trans_dest                                                       NaN\n",
              "Name: 0, dtype: object"
            ]
          },
          "metadata": {
            "tags": []
          },
          "execution_count": 6
        }
      ]
    },
    {
      "cell_type": "markdown",
      "metadata": {
        "id": "0d1TJjWvSekP",
        "colab_type": "text"
      },
      "source": [
        "## get twitter posts for lookup text on monthly basis"
      ]
    },
    {
      "cell_type": "code",
      "metadata": {
        "id": "qH7nmtuMyTgM",
        "colab_type": "code",
        "colab": {}
      },
      "source": [
        "lookup = 'arabspring'\n",
        "start = '12-01-2010'\n",
        "end = '12-01-2012'\n",
        "dirn = path_drive + 'arabspring'\n",
        "min_repost = 1\n",
        "\n",
        "if False:\n",
        "    twitter_fct.twint_loop(lookup,start,end,dirn,min_repost)"
      ],
      "execution_count": null,
      "outputs": []
    },
    {
      "cell_type": "code",
      "metadata": {
        "id": "DWWEGWouStiy",
        "colab_type": "code",
        "colab": {}
      },
      "source": [
        "def plot_ts(df):\n",
        "    df.groupby('date')['conversation_id'].count().plot(figsize=(15,3))\n",
        "    plt.xticks(rotation=45)"
      ],
      "execution_count": null,
      "outputs": []
    },
    {
      "cell_type": "code",
      "metadata": {
        "id": "H5isjFfC9tZw",
        "colab_type": "code",
        "colab": {
          "base_uri": "https://localhost:8080/",
          "height": 388
        },
        "outputId": "34111062-0313-46fd-f66d-b4b4b03b81d3"
      },
      "source": [
        "%%capture\n",
        "!pip install transformers\n",
        "from transformers import pipeline\n",
        "\n",
        "nlp = pipeline(\"sentiment-analysis\")\n",
        "\n",
        "label_map = {\n",
        "    'NEGATIVE' : -1,\n",
        "    'POSITIVE' : 1\n",
        "}\n",
        "\n",
        "def sent_score(x):\n",
        "  res = nlp(x)[0]\n",
        "  score = label_map[res['label']] * res['score']\n",
        "  return score"
      ],
      "execution_count": null,
      "outputs": [
        {
          "output_type": "error",
          "ename": "RuntimeError",
          "evalue": "ignored",
          "traceback": [
            "\u001b[0;31m---------------------------------------------------------------------------\u001b[0m",
            "\u001b[0;31mRuntimeError\u001b[0m                              Traceback (most recent call last)",
            "\u001b[0;32m<ipython-input-8-6aa82a4550cc>\u001b[0m in \u001b[0;36m<module>\u001b[0;34m()\u001b[0m\n\u001b[1;32m      1\u001b[0m \u001b[0mget_ipython\u001b[0m\u001b[0;34m(\u001b[0m\u001b[0;34m)\u001b[0m\u001b[0;34m.\u001b[0m\u001b[0msystem\u001b[0m\u001b[0;34m(\u001b[0m\u001b[0;34m'pip install transformers'\u001b[0m\u001b[0;34m)\u001b[0m\u001b[0;34m\u001b[0m\u001b[0;34m\u001b[0m\u001b[0m\n\u001b[0;32m----> 2\u001b[0;31m \u001b[0;32mfrom\u001b[0m \u001b[0mtransformers\u001b[0m \u001b[0;32mimport\u001b[0m \u001b[0mpipeline\u001b[0m\u001b[0;34m\u001b[0m\u001b[0;34m\u001b[0m\u001b[0m\n\u001b[0m\u001b[1;32m      3\u001b[0m \u001b[0;34m\u001b[0m\u001b[0m\n\u001b[1;32m      4\u001b[0m \u001b[0mnlp\u001b[0m \u001b[0;34m=\u001b[0m \u001b[0mpipeline\u001b[0m\u001b[0;34m(\u001b[0m\u001b[0;34m\"sentiment-analysis\"\u001b[0m\u001b[0;34m)\u001b[0m\u001b[0;34m\u001b[0m\u001b[0;34m\u001b[0m\u001b[0m\n\u001b[1;32m      5\u001b[0m \u001b[0;34m\u001b[0m\u001b[0m\n",
            "\u001b[0;32m/usr/local/lib/python3.6/dist-packages/transformers/__init__.py\u001b[0m in \u001b[0;36m<module>\u001b[0;34m()\u001b[0m\n\u001b[1;32m     19\u001b[0m \u001b[0;34m\u001b[0m\u001b[0m\n\u001b[1;32m     20\u001b[0m \u001b[0;31m# Configurations\u001b[0m\u001b[0;34m\u001b[0m\u001b[0;34m\u001b[0m\u001b[0;34m\u001b[0m\u001b[0m\n\u001b[0;32m---> 21\u001b[0;31m \u001b[0;32mfrom\u001b[0m \u001b[0;34m.\u001b[0m\u001b[0mconfiguration_albert\u001b[0m \u001b[0;32mimport\u001b[0m \u001b[0mALBERT_PRETRAINED_CONFIG_ARCHIVE_MAP\u001b[0m\u001b[0;34m,\u001b[0m \u001b[0mAlbertConfig\u001b[0m\u001b[0;34m\u001b[0m\u001b[0;34m\u001b[0m\u001b[0m\n\u001b[0m\u001b[1;32m     22\u001b[0m \u001b[0;32mfrom\u001b[0m \u001b[0;34m.\u001b[0m\u001b[0mconfiguration_auto\u001b[0m \u001b[0;32mimport\u001b[0m \u001b[0mALL_PRETRAINED_CONFIG_ARCHIVE_MAP\u001b[0m\u001b[0;34m,\u001b[0m \u001b[0mCONFIG_MAPPING\u001b[0m\u001b[0;34m,\u001b[0m \u001b[0mAutoConfig\u001b[0m\u001b[0;34m\u001b[0m\u001b[0;34m\u001b[0m\u001b[0m\n\u001b[1;32m     23\u001b[0m \u001b[0;32mfrom\u001b[0m \u001b[0;34m.\u001b[0m\u001b[0mconfiguration_bart\u001b[0m \u001b[0;32mimport\u001b[0m \u001b[0mBartConfig\u001b[0m\u001b[0;34m\u001b[0m\u001b[0;34m\u001b[0m\u001b[0m\n",
            "\u001b[0;32m/usr/local/lib/python3.6/dist-packages/transformers/configuration_albert.py\u001b[0m in \u001b[0;36m<module>\u001b[0;34m()\u001b[0m\n\u001b[1;32m     16\u001b[0m \u001b[0;34m\"\"\" ALBERT model configuration \"\"\"\u001b[0m\u001b[0;34m\u001b[0m\u001b[0;34m\u001b[0m\u001b[0m\n\u001b[1;32m     17\u001b[0m \u001b[0;34m\u001b[0m\u001b[0m\n\u001b[0;32m---> 18\u001b[0;31m \u001b[0;32mfrom\u001b[0m \u001b[0;34m.\u001b[0m\u001b[0mconfiguration_utils\u001b[0m \u001b[0;32mimport\u001b[0m \u001b[0mPretrainedConfig\u001b[0m\u001b[0;34m\u001b[0m\u001b[0;34m\u001b[0m\u001b[0m\n\u001b[0m\u001b[1;32m     19\u001b[0m \u001b[0;34m\u001b[0m\u001b[0m\n\u001b[1;32m     20\u001b[0m \u001b[0;34m\u001b[0m\u001b[0m\n",
            "\u001b[0;32m/usr/local/lib/python3.6/dist-packages/transformers/configuration_utils.py\u001b[0m in \u001b[0;36m<module>\u001b[0;34m()\u001b[0m\n\u001b[1;32m     22\u001b[0m \u001b[0;32mfrom\u001b[0m \u001b[0mtyping\u001b[0m \u001b[0;32mimport\u001b[0m \u001b[0mAny\u001b[0m\u001b[0;34m,\u001b[0m \u001b[0mDict\u001b[0m\u001b[0;34m,\u001b[0m \u001b[0mTuple\u001b[0m\u001b[0;34m\u001b[0m\u001b[0;34m\u001b[0m\u001b[0m\n\u001b[1;32m     23\u001b[0m \u001b[0;34m\u001b[0m\u001b[0m\n\u001b[0;32m---> 24\u001b[0;31m \u001b[0;32mfrom\u001b[0m \u001b[0;34m.\u001b[0m\u001b[0mfile_utils\u001b[0m \u001b[0;32mimport\u001b[0m \u001b[0mCONFIG_NAME\u001b[0m\u001b[0;34m,\u001b[0m \u001b[0mcached_path\u001b[0m\u001b[0;34m,\u001b[0m \u001b[0mhf_bucket_url\u001b[0m\u001b[0;34m,\u001b[0m \u001b[0mis_remote_url\u001b[0m\u001b[0;34m\u001b[0m\u001b[0;34m\u001b[0m\u001b[0m\n\u001b[0m\u001b[1;32m     25\u001b[0m \u001b[0;32mfrom\u001b[0m \u001b[0;34m.\u001b[0m\u001b[0mutils\u001b[0m \u001b[0;32mimport\u001b[0m \u001b[0mlogging\u001b[0m\u001b[0;34m\u001b[0m\u001b[0;34m\u001b[0m\u001b[0m\n\u001b[1;32m     26\u001b[0m \u001b[0;34m\u001b[0m\u001b[0m\n",
            "\u001b[0;32m/usr/local/lib/python3.6/dist-packages/transformers/file_utils.py\u001b[0m in \u001b[0;36m<module>\u001b[0;34m()\u001b[0m\n\u001b[1;32m     39\u001b[0m     \u001b[0mUSE_TORCH\u001b[0m \u001b[0;34m=\u001b[0m \u001b[0mos\u001b[0m\u001b[0;34m.\u001b[0m\u001b[0menviron\u001b[0m\u001b[0;34m.\u001b[0m\u001b[0mget\u001b[0m\u001b[0;34m(\u001b[0m\u001b[0;34m\"USE_TORCH\"\u001b[0m\u001b[0;34m,\u001b[0m \u001b[0;34m\"AUTO\"\u001b[0m\u001b[0;34m)\u001b[0m\u001b[0;34m.\u001b[0m\u001b[0mupper\u001b[0m\u001b[0;34m(\u001b[0m\u001b[0;34m)\u001b[0m\u001b[0;34m\u001b[0m\u001b[0;34m\u001b[0m\u001b[0m\n\u001b[1;32m     40\u001b[0m     \u001b[0;32mif\u001b[0m \u001b[0mUSE_TORCH\u001b[0m \u001b[0;32min\u001b[0m \u001b[0;34m(\u001b[0m\u001b[0;34m\"1\"\u001b[0m\u001b[0;34m,\u001b[0m \u001b[0;34m\"ON\"\u001b[0m\u001b[0;34m,\u001b[0m \u001b[0;34m\"YES\"\u001b[0m\u001b[0;34m,\u001b[0m \u001b[0;34m\"AUTO\"\u001b[0m\u001b[0;34m)\u001b[0m \u001b[0;32mand\u001b[0m \u001b[0mUSE_TF\u001b[0m \u001b[0;32mnot\u001b[0m \u001b[0;32min\u001b[0m \u001b[0;34m(\u001b[0m\u001b[0;34m\"1\"\u001b[0m\u001b[0;34m,\u001b[0m \u001b[0;34m\"ON\"\u001b[0m\u001b[0;34m,\u001b[0m \u001b[0;34m\"YES\"\u001b[0m\u001b[0;34m)\u001b[0m\u001b[0;34m:\u001b[0m\u001b[0;34m\u001b[0m\u001b[0;34m\u001b[0m\u001b[0m\n\u001b[0;32m---> 41\u001b[0;31m         \u001b[0;32mimport\u001b[0m \u001b[0mtorch\u001b[0m\u001b[0;34m\u001b[0m\u001b[0;34m\u001b[0m\u001b[0m\n\u001b[0m\u001b[1;32m     42\u001b[0m \u001b[0;34m\u001b[0m\u001b[0m\n\u001b[1;32m     43\u001b[0m         \u001b[0m_torch_available\u001b[0m \u001b[0;34m=\u001b[0m \u001b[0;32mTrue\u001b[0m  \u001b[0;31m# pylint: disable=invalid-name\u001b[0m\u001b[0;34m\u001b[0m\u001b[0;34m\u001b[0m\u001b[0m\n",
            "\u001b[0;32m/usr/local/lib/python3.6/dist-packages/torch/__init__.py\u001b[0m in \u001b[0;36m<module>\u001b[0;34m()\u001b[0m\n\u001b[1;32m    187\u001b[0m     \u001b[0;32mif\u001b[0m \u001b[0mUSE_GLOBAL_DEPS\u001b[0m\u001b[0;34m:\u001b[0m\u001b[0;34m\u001b[0m\u001b[0;34m\u001b[0m\u001b[0m\n\u001b[1;32m    188\u001b[0m         \u001b[0m_load_global_deps\u001b[0m\u001b[0;34m(\u001b[0m\u001b[0;34m)\u001b[0m\u001b[0;34m\u001b[0m\u001b[0;34m\u001b[0m\u001b[0m\n\u001b[0;32m--> 189\u001b[0;31m     \u001b[0;32mfrom\u001b[0m \u001b[0mtorch\u001b[0m\u001b[0;34m.\u001b[0m\u001b[0m_C\u001b[0m \u001b[0;32mimport\u001b[0m \u001b[0;34m*\u001b[0m\u001b[0;34m\u001b[0m\u001b[0;34m\u001b[0m\u001b[0m\n\u001b[0m\u001b[1;32m    190\u001b[0m \u001b[0;34m\u001b[0m\u001b[0m\n\u001b[1;32m    191\u001b[0m \u001b[0;31m# Appease the type checker; ordinarily this binding is inserted by the\u001b[0m\u001b[0;34m\u001b[0m\u001b[0;34m\u001b[0m\u001b[0;34m\u001b[0m\u001b[0m\n",
            "\u001b[0;31mRuntimeError\u001b[0m: KeyboardInterrupt: "
          ]
        }
      ]
    },
    {
      "cell_type": "markdown",
      "metadata": {
        "id": "sdM4U5j-SKfS",
        "colab_type": "text"
      },
      "source": [
        "# #ARABSPRING - A lesson in conflict monitoring through social media\n",
        "description are taken from: https://moveme.berkeley.edu/project/arab-spring/"
      ]
    },
    {
      "cell_type": "markdown",
      "metadata": {
        "id": "tQOmu3aOns-U",
        "colab_type": "text"
      },
      "source": [
        "### Mohamed Bouazizi - 17.12.2010"
      ]
    },
    {
      "cell_type": "markdown",
      "metadata": {
        "id": "Zd1qYaWwS0-F",
        "colab_type": "text"
      },
      "source": [
        "* 17.12.2010  \n",
        "Suicide of Mohamed Bouazizi, a Tunisian street trader.\n",
        "Tired of the regime and not being able to escape it, he set himself on fire.[8] Egypt was in the midst of a war on terror that sparked the Arab Spring.[9]"
      ]
    },
    {
      "cell_type": "markdown",
      "metadata": {
        "id": "eT54ISvJUPUC",
        "colab_type": "text"
      },
      "source": [
        "We try to scrape tweets whith a geo-tag of Ben Arous, where the street trader died, in the south of tunis and 10km around, from the 17.12.2011 till the end of the year."
      ]
    },
    {
      "cell_type": "code",
      "metadata": {
        "id": "i16TzaHsUIuS",
        "colab_type": "code",
        "colab": {}
      },
      "source": [
        "%%capture\n",
        "!twint -g=\"36.749029, 10.231235,10km\" --since \"2010-12-15 00:00:00\" --until \"2010-12-31 00:00:00\" -o bouazizi.csv --csv --limit 100"
      ],
      "execution_count": null,
      "outputs": []
    },
    {
      "cell_type": "code",
      "metadata": {
        "id": "_mVtpZHsULEQ",
        "colab_type": "code",
        "colab": {
          "base_uri": "https://localhost:8080/",
          "height": 230
        },
        "outputId": "288fb452-cee5-4e37-d607-5ab868dbcc2e"
      },
      "source": [
        "df_bouazizi = twitter_fct.load('bouazizi.csv')\n",
        "print()\n",
        "df_bouazizi['tweet'][:3]"
      ],
      "execution_count": null,
      "outputs": [
        {
          "output_type": "stream",
          "text": [
            "tweets: 400\n",
            "tweets per day: 67.67 from 2010-12-24 00:00:00 to 2010-12-30 00:00:00\n",
            "en    388\n",
            "hu      8\n",
            "fr      4\n",
            "Name: lang, dtype: int64\n",
            "\n"
          ],
          "name": "stdout"
        },
        {
          "output_type": "execute_result",
          "data": {
            "text/plain": [
              "id\n",
              "20076587978334208    current weather: partly cloudy — 13°C — 67% hu...\n",
              "20076587978334208    current weather: partly cloudy — 13°C — 67% hu...\n",
              "20076587978334208    current weather: partly cloudy — 13°C — 67% hu...\n",
              "Name: tweet, dtype: object"
            ]
          },
          "metadata": {
            "tags": []
          },
          "execution_count": 11
        }
      ]
    },
    {
      "cell_type": "markdown",
      "metadata": {
        "id": "XO9Z2WXPUsTy",
        "colab_type": "text"
      },
      "source": [
        "97% of the tweets are in english language and the example texts look like from a weather station.  \n",
        "Therefore even with knowing the exact location, geo tags might not be usefull for context monitoring."
      ]
    },
    {
      "cell_type": "markdown",
      "metadata": {
        "id": "3G-wBLhVTzQ8",
        "colab_type": "text"
      },
      "source": [
        "#### Learnings\n",
        "* geolocation not provided in > 95% of tweets, often technical accounts\n",
        "* for information about location one need to search for hashtags / in post mentions  \n",
        "  \n"
      ]
    },
    {
      "cell_type": "markdown",
      "metadata": {
        "id": "F7R3mmvRZCE9",
        "colab_type": "text"
      },
      "source": [
        "  number of tweets in one week per location:\n",
        "* ben arous 9 / بن عروس  1\n",
        "* tunis 1342 / 833 تونس\n",
        "* tunesia 2981 \n",
        "-> for arabic names, languages of tweets mostly arabic /vice versa\n"
      ]
    },
    {
      "cell_type": "code",
      "metadata": {
        "id": "31Hda13TSPUS",
        "colab_type": "code",
        "colab": {
          "base_uri": "https://localhost:8080/",
          "height": 179
        },
        "outputId": "b945b0e6-5886-4d3f-82d6-1738125aeefe"
      },
      "source": [
        "dirn = path_drive + 'tunisia'\n",
        "df = twitter_fct.load_folder(dirn+'/')"
      ],
      "execution_count": null,
      "outputs": [
        {
          "output_type": "stream",
          "text": [
            "/usr/local/lib/python3.6/dist-packages/IPython/core/interactiveshell.py:2882: DtypeWarning: Columns (21) have mixed types.Specify dtype option on import or set low_memory=False.\n",
            "  exec(code_obj, self.user_global_ns, self.user_ns)\n"
          ],
          "name": "stderr"
        },
        {
          "output_type": "stream",
          "text": [
            "tweets: 282373\n",
            "tweets per day: 1172.67 from 2010-09-01 00:00:00 to 2011-04-30 00:00:00\n",
            "en    207982\n",
            "ar     28169\n",
            "pt     12315\n",
            "Name: lang, dtype: int64\n"
          ],
          "name": "stdout"
        }
      ]
    },
    {
      "cell_type": "code",
      "metadata": {
        "id": "SfACvMjLTYYb",
        "colab_type": "code",
        "colab": {
          "base_uri": "https://localhost:8080/",
          "height": 267
        },
        "outputId": "1a69029d-fea2-485d-ff12-9935afda0563"
      },
      "source": [
        "plot_ts(df)"
      ],
      "execution_count": null,
      "outputs": [
        {
          "output_type": "display_data",
          "data": {
            "image/png": "[encoded data removed]",
            "text/plain": [
              "<Figure size 1080x216 with 1 Axes>"
            ]
          },
          "metadata": {
            "tags": [],
            "needs_background": "light"
          }
        }
      ]
    },
    {
      "cell_type": "code",
      "metadata": {
        "id": "wSiWvW1_cD9P",
        "colab_type": "code",
        "colab": {}
      },
      "source": [
        "df['year'] = df.date_time.dt.year\n",
        "df['month'] = df.date_time.dt.month"
      ],
      "execution_count": null,
      "outputs": []
    },
    {
      "cell_type": "markdown",
      "metadata": {
        "id": "LrjEiENAhsQr",
        "colab_type": "text"
      },
      "source": [
        "### Popular Tweets in November"
      ]
    },
    {
      "cell_type": "code",
      "metadata": {
        "id": "tt_mJhQAcQNg",
        "colab_type": "code",
        "colab": {
          "base_uri": "https://localhost:8080/",
          "height": 266
        },
        "outputId": "176248d6-4154-4c5f-fd3c-a6e5913aa136"
      },
      "source": [
        "nov = df[(df['year']== 2010) & (df['month']==11)]\n",
        "nov=nov.sort_values('retweets_count',ascending=False) \n",
        "plot_ts(nov)"
      ],
      "execution_count": null,
      "outputs": [
        {
          "output_type": "display_data",
          "data": {
            "image/png": "[encoded data removed]",
            "text/plain": [
              "<Figure size 1080x216 with 1 Axes>"
            ]
          },
          "metadata": {
            "tags": [],
            "needs_background": "light"
          }
        }
      ]
    },
    {
      "cell_type": "markdown",
      "metadata": {
        "id": "QEwHMMpIh8HU",
        "colab_type": "text"
      },
      "source": [
        "#### most Retweets"
      ]
    },
    {
      "cell_type": "code",
      "metadata": {
        "id": "UQVr88W6h8P_",
        "colab_type": "code",
        "colab": {
          "base_uri": "https://localhost:8080/",
          "height": 730
        },
        "outputId": "68046e8c-f298-451f-bcb1-32b3fd0b0708"
      },
      "source": [
        "for i in [0,1,2]:\n",
        "    sample_tweet_link = nov.iloc[i]['link']\n",
        "    display(sample_tweet_link)\n",
        "    twitter_fct.show_tweet(sample_tweet_link)\n"
      ],
      "execution_count": null,
      "outputs": [
        {
          "output_type": "display_data",
          "data": {
            "application/vnd.google.colaboratory.intrinsic+json": {
              "type": "string"
            },
            "text/plain": [
              "'https://twitter.com/NASA/status/9352851335684096'"
            ]
          },
          "metadata": {
            "tags": []
          }
        },
        {
          "output_type": "display_data",
          "data": {
            "text/html": [
              "<blockquote class=\"twitter-tweet\"><p lang=\"en\" dir=\"ltr\">Some of Tunisia &amp; Libya were lost to the Mediterranean on Sunday. Dust plumes seen by our Aqua satellite. http://go.usa.gov/1xm</p>&mdash; NASA (@NASA) <a href=\"https://twitter.com/NASA/status/9352851335684096?ref_src=twsrc%5Etfw\">November 29, 2010</a></blockquote>\n",
              "<script async src=\"https://platform.twitter.com/widgets.js\" charset=\"utf-8\"></script>\n"
            ],
            "text/plain": [
              "<IPython.core.display.HTML object>"
            ]
          },
          "metadata": {
            "tags": []
          }
        },
        {
          "output_type": "display_data",
          "data": {
            "application/vnd.google.colaboratory.intrinsic+json": {
              "type": "string"
            },
            "text/plain": [
              "'https://twitter.com/JBiebersHamster/status/4611291876425728'"
            ]
          },
          "metadata": {
            "tags": []
          }
        },
        {
          "output_type": "display_data",
          "data": {
            "text/html": [
              "<blockquote class=\"twitter-tweet\"><p lang=\"en\" dir=\"ltr\">RT if you are from Tunisia, Bosnia, Hungary, Malaysia, New Zealand, South Africa, Poland, Russia</p>&mdash; Justin Bieber (@JBiebersHamster) <a href=\"https://twitter.com/JBiebersHamster/status/4611291876425728?ref_src=twsrc%5Etfw\">November 16, 2010</a></blockquote>\n",
              "<script async src=\"https://platform.twitter.com/widgets.js\" charset=\"utf-8\"></script>\n"
            ],
            "text/plain": [
              "<IPython.core.display.HTML object>"
            ]
          },
          "metadata": {
            "tags": []
          }
        },
        {
          "output_type": "display_data",
          "data": {
            "application/vnd.google.colaboratory.intrinsic+json": {
              "type": "string"
            },
            "text/plain": [
              "'https://twitter.com/lonelyplanet/status/7467529651888128'"
            ]
          },
          "metadata": {
            "tags": []
          }
        },
        {
          "output_type": "display_data",
          "data": {
            "text/html": [
              "<blockquote class=\"twitter-tweet\"><p lang=\"en\" dir=\"ltr\">Tunisia: Destination at a glance - http://bit.ly/i1XEtq <a href=\"https://twitter.com/hashtag/lp?src=hash&amp;ref_src=twsrc%5Etfw\">#lp</a></p>&mdash; Lonely Planet (@lonelyplanet) <a href=\"https://twitter.com/lonelyplanet/status/7467529651888128?ref_src=twsrc%5Etfw\">November 24, 2010</a></blockquote>\n",
              "<script async src=\"https://platform.twitter.com/widgets.js\" charset=\"utf-8\"></script>\n"
            ],
            "text/plain": [
              "<IPython.core.display.HTML object>"
            ]
          },
          "metadata": {
            "tags": []
          }
        }
      ]
    },
    {
      "cell_type": "markdown",
      "metadata": {
        "id": "3xWVHzniiPby",
        "colab_type": "text"
      },
      "source": [
        "#### Most important Hashtags"
      ]
    },
    {
      "cell_type": "code",
      "metadata": {
        "id": "9cszKIbZgigW",
        "colab_type": "code",
        "colab": {
          "base_uri": "https://localhost:8080/",
          "height": 396
        },
        "outputId": "e7fac41e-9a5b-446c-9a61-fd341fccdedd"
      },
      "source": [
        "twitter_fct.mvh(nov,10)"
      ],
      "execution_count": null,
      "outputs": [
        {
          "output_type": "stream",
          "text": [
            "/content/fragile_context/twitter_fct.py:96: FutureWarning: Indexing with multiple keys (implicitly converted to a tuple of keys) will be deprecated, use a list instead.\n",
            "  hashtags_g = hashtags.groupby('hashtag')['score','count','retweets_count','replies_count','likes_count'].sum()\n"
          ],
          "name": "stderr"
        },
        {
          "output_type": "execute_result",
          "data": {
            "text/html": [
              "<div>\n",
              "<style scoped>\n",
              "    .dataframe tbody tr th:only-of-type {\n",
              "        vertical-align: middle;\n",
              "    }\n",
              "\n",
              "    .dataframe tbody tr th {\n",
              "        vertical-align: top;\n",
              "    }\n",
              "\n",
              "    .dataframe thead th {\n",
              "        text-align: right;\n",
              "    }\n",
              "</style>\n",
              "<table border=\"1\" class=\"dataframe\">\n",
              "  <thead>\n",
              "    <tr style=\"text-align: right;\">\n",
              "      <th></th>\n",
              "      <th>hashtag</th>\n",
              "      <th>score</th>\n",
              "      <th>count</th>\n",
              "      <th>retweets_count</th>\n",
              "      <th>replies_count</th>\n",
              "      <th>likes_count</th>\n",
              "      <th>translation</th>\n",
              "    </tr>\n",
              "  </thead>\n",
              "  <tbody>\n",
              "    <tr>\n",
              "      <th>0</th>\n",
              "      <td>#tunisia</td>\n",
              "      <td>218</td>\n",
              "      <td>643</td>\n",
              "      <td>42</td>\n",
              "      <td>0</td>\n",
              "      <td>8</td>\n",
              "      <td>tunisia</td>\n",
              "    </tr>\n",
              "    <tr>\n",
              "      <th>1</th>\n",
              "      <td>#wikileaks</td>\n",
              "      <td>74</td>\n",
              "      <td>46</td>\n",
              "      <td>14</td>\n",
              "      <td>0</td>\n",
              "      <td>4</td>\n",
              "      <td>wikileaks</td>\n",
              "    </tr>\n",
              "    <tr>\n",
              "      <th>2</th>\n",
              "      <td>#tunileaks</td>\n",
              "      <td>73</td>\n",
              "      <td>33</td>\n",
              "      <td>14</td>\n",
              "      <td>0</td>\n",
              "      <td>3</td>\n",
              "      <td>tunileaks</td>\n",
              "    </tr>\n",
              "    <tr>\n",
              "      <th>3</th>\n",
              "      <td>#lp</td>\n",
              "      <td>58</td>\n",
              "      <td>9</td>\n",
              "      <td>10</td>\n",
              "      <td>0</td>\n",
              "      <td>8</td>\n",
              "      <td>lp</td>\n",
              "    </tr>\n",
              "    <tr>\n",
              "      <th>4</th>\n",
              "      <td>#cablegate</td>\n",
              "      <td>56</td>\n",
              "      <td>30</td>\n",
              "      <td>11</td>\n",
              "      <td>0</td>\n",
              "      <td>1</td>\n",
              "      <td>cablegate</td>\n",
              "    </tr>\n",
              "    <tr>\n",
              "      <th>5</th>\n",
              "      <td>#des</td>\n",
              "      <td>48</td>\n",
              "      <td>2</td>\n",
              "      <td>9</td>\n",
              "      <td>0</td>\n",
              "      <td>3</td>\n",
              "      <td>of</td>\n",
              "    </tr>\n",
              "    <tr>\n",
              "      <th>6</th>\n",
              "      <td>#travel</td>\n",
              "      <td>40</td>\n",
              "      <td>55</td>\n",
              "      <td>8</td>\n",
              "      <td>0</td>\n",
              "      <td>0</td>\n",
              "      <td>travel</td>\n",
              "    </tr>\n",
              "    <tr>\n",
              "      <th>7</th>\n",
              "      <td>#ammantt</td>\n",
              "      <td>35</td>\n",
              "      <td>4</td>\n",
              "      <td>7</td>\n",
              "      <td>0</td>\n",
              "      <td>0</td>\n",
              "      <td>ammantt</td>\n",
              "    </tr>\n",
              "    <tr>\n",
              "      <th>8</th>\n",
              "      <td>#censorship</td>\n",
              "      <td>30</td>\n",
              "      <td>16</td>\n",
              "      <td>6</td>\n",
              "      <td>0</td>\n",
              "      <td>0</td>\n",
              "      <td>censorship</td>\n",
              "    </tr>\n",
              "    <tr>\n",
              "      <th>9</th>\n",
              "      <td>#tunisia\"</td>\n",
              "      <td>25</td>\n",
              "      <td>2</td>\n",
              "      <td>5</td>\n",
              "      <td>0</td>\n",
              "      <td>0</td>\n",
              "      <td>tunisia\"</td>\n",
              "    </tr>\n",
              "  </tbody>\n",
              "</table>\n",
              "</div>"
            ],
            "text/plain": [
              "       hashtag  score  count  ...  replies_count  likes_count  translation\n",
              "0     #tunisia    218    643  ...              0            8      tunisia\n",
              "1   #wikileaks     74     46  ...              0            4    wikileaks\n",
              "2   #tunileaks     73     33  ...              0            3    tunileaks\n",
              "3          #lp     58      9  ...              0            8           lp\n",
              "4   #cablegate     56     30  ...              0            1    cablegate\n",
              "5         #des     48      2  ...              0            3           of\n",
              "6      #travel     40     55  ...              0            0       travel\n",
              "7     #ammantt     35      4  ...              0            0      ammantt\n",
              "8  #censorship     30     16  ...              0            0   censorship\n",
              "9    #tunisia\"     25      2  ...              0            0     tunisia\"\n",
              "\n",
              "[10 rows x 7 columns]"
            ]
          },
          "metadata": {
            "tags": []
          },
          "execution_count": 38
        }
      ]
    },
    {
      "cell_type": "markdown",
      "metadata": {
        "id": "6xFK6Y44iYJi",
        "colab_type": "text"
      },
      "source": [
        "### Popular Tweets in December"
      ]
    },
    {
      "cell_type": "code",
      "metadata": {
        "id": "3djwudGzicsr",
        "colab_type": "code",
        "colab": {
          "base_uri": "https://localhost:8080/",
          "height": 263
        },
        "outputId": "2c3fae15-38b5-4045-f99b-da4c52a45afc"
      },
      "source": [
        "dec = df[(df['year']== 2010) & (df['month']==12)]\n",
        "dec=dec.sort_values('retweets_count',ascending=False) \n",
        "plot_ts(dec)"
      ],
      "execution_count": null,
      "outputs": [
        {
          "output_type": "display_data",
          "data": {
            "image/png": "[encoded data removed]",
            "text/plain": [
              "<Figure size 1080x216 with 1 Axes>"
            ]
          },
          "metadata": {
            "tags": [],
            "needs_background": "light"
          }
        }
      ]
    },
    {
      "cell_type": "markdown",
      "metadata": {
        "id": "hN1bCM01jDfF",
        "colab_type": "text"
      },
      "source": [
        "#### Most Retweets"
      ]
    },
    {
      "cell_type": "code",
      "metadata": {
        "id": "5jah_9zUidAT",
        "colab_type": "code",
        "colab": {
          "base_uri": "https://localhost:8080/",
          "height": 780
        },
        "outputId": "91a1768c-f7dc-4798-b97e-a712b811211b"
      },
      "source": [
        "for i in [0,1,2]:\n",
        "    sample_tweet_link = dec.iloc[i]['link']\n",
        "    display(sample_tweet_link)\n",
        "    twitter_fct.show_tweet(sample_tweet_link)\n"
      ],
      "execution_count": null,
      "outputs": [
        {
          "output_type": "display_data",
          "data": {
            "application/vnd.google.colaboratory.intrinsic+json": {
              "type": "string"
            },
            "text/plain": [
              "'https://twitter.com/rafik/status/18615718786367488'"
            ]
          },
          "metadata": {
            "tags": []
          }
        },
        {
          "output_type": "display_data",
          "data": {
            "text/html": [
              "<blockquote class=\"twitter-tweet\"><p lang=\"en\" dir=\"ltr\">thanks to everybody tweeting about citizens riots in <a href=\"https://twitter.com/hashtag/sidibouzid?src=hash&amp;ref_src=twsrc%5Etfw\">#sidibouzid</a> in Tunisia,it is nothing but at least the regime cannot prevent their voice</p>&mdash; Rafik (@rafik) <a href=\"https://twitter.com/rafik/status/18615718786367488?ref_src=twsrc%5Etfw\">December 25, 2010</a></blockquote>\n",
              "<script async src=\"https://platform.twitter.com/widgets.js\" charset=\"utf-8\"></script>\n"
            ],
            "text/plain": [
              "<IPython.core.display.HTML object>"
            ]
          },
          "metadata": {
            "tags": []
          }
        },
        {
          "output_type": "display_data",
          "data": {
            "application/vnd.google.colaboratory.intrinsic+json": {
              "type": "string"
            },
            "text/plain": [
              "'https://twitter.com/ifikra/status/20135469803114496'"
            ]
          },
          "metadata": {
            "tags": []
          }
        },
        {
          "output_type": "display_data",
          "data": {
            "text/html": [
              "<blockquote class=\"twitter-tweet\"><p lang=\"en\" dir=\"ltr\">To the hypocritical west that had Iran protests top news for weeks, <a href=\"https://twitter.com/hashtag/Tunisia?src=hash&amp;ref_src=twsrc%5Etfw\">#Tunisia</a> has been fighting for its freedom for 2 weeks now <a href=\"https://twitter.com/hashtag/sidibouzid?src=hash&amp;ref_src=twsrc%5Etfw\">#sidibouzid</a></p>&mdash; sami ben gharbia (@ifikra) <a href=\"https://twitter.com/ifikra/status/20135469803114496?ref_src=twsrc%5Etfw\">December 29, 2010</a></blockquote>\n",
              "<script async src=\"https://platform.twitter.com/widgets.js\" charset=\"utf-8\"></script>\n"
            ],
            "text/plain": [
              "<IPython.core.display.HTML object>"
            ]
          },
          "metadata": {
            "tags": []
          }
        },
        {
          "output_type": "display_data",
          "data": {
            "application/vnd.google.colaboratory.intrinsic+json": {
              "type": "string"
            },
            "text/plain": [
              "'https://twitter.com/weddady/status/18506755948421120'"
            ]
          },
          "metadata": {
            "tags": []
          }
        },
        {
          "output_type": "display_data",
          "data": {
            "text/html": [
              "<blockquote class=\"twitter-tweet\"><p lang=\"en\" dir=\"ltr\">Someone do the math: Ben Ali has been in power for 23 years, 54.3% of tunisians r under 30.. <a href=\"https://twitter.com/hashtag/sidibouzid?src=hash&amp;ref_src=twsrc%5Etfw\">#sidibouzid</a> <a href=\"https://twitter.com/hashtag/Tunisia?src=hash&amp;ref_src=twsrc%5Etfw\">#Tunisia</a></p>&mdash; Weddady (@weddady) <a href=\"https://twitter.com/weddady/status/18506755948421120?ref_src=twsrc%5Etfw\">December 25, 2010</a></blockquote>\n",
              "<script async src=\"https://platform.twitter.com/widgets.js\" charset=\"utf-8\"></script>\n"
            ],
            "text/plain": [
              "<IPython.core.display.HTML object>"
            ]
          },
          "metadata": {
            "tags": []
          }
        }
      ]
    },
    {
      "cell_type": "markdown",
      "metadata": {
        "id": "2mBD9Y7UjGag",
        "colab_type": "text"
      },
      "source": [
        "#### Most important Hashtags"
      ]
    },
    {
      "cell_type": "code",
      "metadata": {
        "id": "Nzxj-5ddizIp",
        "colab_type": "code",
        "colab": {
          "base_uri": "https://localhost:8080/",
          "height": 396
        },
        "outputId": "059eb2b7-e8ad-4982-d96e-2504b47ca559"
      },
      "source": [
        "twitter_fct.mvh(dec,10)"
      ],
      "execution_count": null,
      "outputs": [
        {
          "output_type": "stream",
          "text": [
            "/content/fragile_context/twitter_fct.py:96: FutureWarning: Indexing with multiple keys (implicitly converted to a tuple of keys) will be deprecated, use a list instead.\n",
            "  hashtags_g = hashtags.groupby('hashtag')['score','count','retweets_count','replies_count','likes_count'].sum()\n"
          ],
          "name": "stderr"
        },
        {
          "output_type": "execute_result",
          "data": {
            "text/html": [
              "<div>\n",
              "<style scoped>\n",
              "    .dataframe tbody tr th:only-of-type {\n",
              "        vertical-align: middle;\n",
              "    }\n",
              "\n",
              "    .dataframe tbody tr th {\n",
              "        vertical-align: top;\n",
              "    }\n",
              "\n",
              "    .dataframe thead th {\n",
              "        text-align: right;\n",
              "    }\n",
              "</style>\n",
              "<table border=\"1\" class=\"dataframe\">\n",
              "  <thead>\n",
              "    <tr style=\"text-align: right;\">\n",
              "      <th></th>\n",
              "      <th>hashtag</th>\n",
              "      <th>score</th>\n",
              "      <th>count</th>\n",
              "      <th>retweets_count</th>\n",
              "      <th>replies_count</th>\n",
              "      <th>likes_count</th>\n",
              "      <th>translation</th>\n",
              "    </tr>\n",
              "  </thead>\n",
              "  <tbody>\n",
              "    <tr>\n",
              "      <th>0</th>\n",
              "      <td>#sidibouzid</td>\n",
              "      <td>15564</td>\n",
              "      <td>2263</td>\n",
              "      <td>3067</td>\n",
              "      <td>3</td>\n",
              "      <td>220</td>\n",
              "      <td>Happybazed</td>\n",
              "    </tr>\n",
              "    <tr>\n",
              "      <th>1</th>\n",
              "      <td>#tunisia</td>\n",
              "      <td>14267</td>\n",
              "      <td>3152</td>\n",
              "      <td>2812</td>\n",
              "      <td>0</td>\n",
              "      <td>207</td>\n",
              "      <td>tunisia</td>\n",
              "    </tr>\n",
              "    <tr>\n",
              "      <th>2</th>\n",
              "      <td>#egypt</td>\n",
              "      <td>663</td>\n",
              "      <td>184</td>\n",
              "      <td>131</td>\n",
              "      <td>0</td>\n",
              "      <td>8</td>\n",
              "      <td>egypt</td>\n",
              "    </tr>\n",
              "    <tr>\n",
              "      <th>3</th>\n",
              "      <td>#censorship</td>\n",
              "      <td>630</td>\n",
              "      <td>97</td>\n",
              "      <td>124</td>\n",
              "      <td>0</td>\n",
              "      <td>10</td>\n",
              "      <td>censorship</td>\n",
              "    </tr>\n",
              "    <tr>\n",
              "      <th>4</th>\n",
              "      <td>#netfreedom</td>\n",
              "      <td>489</td>\n",
              "      <td>60</td>\n",
              "      <td>96</td>\n",
              "      <td>0</td>\n",
              "      <td>9</td>\n",
              "      <td>netfreedom</td>\n",
              "    </tr>\n",
              "    <tr>\n",
              "      <th>5</th>\n",
              "      <td>#tunisiavimeo</td>\n",
              "      <td>460</td>\n",
              "      <td>15</td>\n",
              "      <td>91</td>\n",
              "      <td>0</td>\n",
              "      <td>5</td>\n",
              "      <td>tunisiavimeo</td>\n",
              "    </tr>\n",
              "    <tr>\n",
              "      <th>6</th>\n",
              "      <td>#humanrights</td>\n",
              "      <td>389</td>\n",
              "      <td>60</td>\n",
              "      <td>77</td>\n",
              "      <td>0</td>\n",
              "      <td>4</td>\n",
              "      <td>humanrights</td>\n",
              "    </tr>\n",
              "    <tr>\n",
              "      <th>7</th>\n",
              "      <td>#tunisie</td>\n",
              "      <td>365</td>\n",
              "      <td>119</td>\n",
              "      <td>71</td>\n",
              "      <td>0</td>\n",
              "      <td>10</td>\n",
              "      <td>tunisia</td>\n",
              "    </tr>\n",
              "    <tr>\n",
              "      <th>8</th>\n",
              "      <td>#wikileaks</td>\n",
              "      <td>312</td>\n",
              "      <td>125</td>\n",
              "      <td>60</td>\n",
              "      <td>0</td>\n",
              "      <td>12</td>\n",
              "      <td>wikileaks</td>\n",
              "    </tr>\n",
              "    <tr>\n",
              "      <th>9</th>\n",
              "      <td>#iran</td>\n",
              "      <td>290</td>\n",
              "      <td>29</td>\n",
              "      <td>57</td>\n",
              "      <td>0</td>\n",
              "      <td>5</td>\n",
              "      <td>iran</td>\n",
              "    </tr>\n",
              "  </tbody>\n",
              "</table>\n",
              "</div>"
            ],
            "text/plain": [
              "         hashtag  score  count  ...  replies_count  likes_count   translation\n",
              "0    #sidibouzid  15564   2263  ...              3          220    Happybazed\n",
              "1       #tunisia  14267   3152  ...              0          207       tunisia\n",
              "2         #egypt    663    184  ...              0            8         egypt\n",
              "3    #censorship    630     97  ...              0           10    censorship\n",
              "4    #netfreedom    489     60  ...              0            9    netfreedom\n",
              "5  #tunisiavimeo    460     15  ...              0            5  tunisiavimeo\n",
              "6   #humanrights    389     60  ...              0            4   humanrights\n",
              "7       #tunisie    365    119  ...              0           10       tunisia\n",
              "8     #wikileaks    312    125  ...              0           12     wikileaks\n",
              "9          #iran    290     29  ...              0            5          iran\n",
              "\n",
              "[10 rows x 7 columns]"
            ]
          },
          "metadata": {
            "tags": []
          },
          "execution_count": 40
        }
      ]
    },
    {
      "cell_type": "code",
      "metadata": {
        "id": "uicphjLnl7mX",
        "colab_type": "code",
        "colab": {
          "base_uri": "https://localhost:8080/",
          "height": 396
        },
        "outputId": "c158651e-f6a2-4cbc-fe5e-3abfbdeb83fb"
      },
      "source": [
        "jan = df[(df['year']== 2011) & (df['month']==1)]\n",
        "twitter_fct.mvh(jan,10)"
      ],
      "execution_count": null,
      "outputs": [
        {
          "output_type": "stream",
          "text": [
            "/content/fragile_context/twitter_fct.py:96: FutureWarning: Indexing with multiple keys (implicitly converted to a tuple of keys) will be deprecated, use a list instead.\n",
            "  hashtags_g = hashtags.groupby('hashtag')['score','count','retweets_count','replies_count','likes_count'].sum()\n"
          ],
          "name": "stderr"
        },
        {
          "output_type": "execute_result",
          "data": {
            "text/html": [
              "<div>\n",
              "<style scoped>\n",
              "    .dataframe tbody tr th:only-of-type {\n",
              "        vertical-align: middle;\n",
              "    }\n",
              "\n",
              "    .dataframe tbody tr th {\n",
              "        vertical-align: top;\n",
              "    }\n",
              "\n",
              "    .dataframe thead th {\n",
              "        text-align: right;\n",
              "    }\n",
              "</style>\n",
              "<table border=\"1\" class=\"dataframe\">\n",
              "  <thead>\n",
              "    <tr style=\"text-align: right;\">\n",
              "      <th></th>\n",
              "      <th>hashtag</th>\n",
              "      <th>score</th>\n",
              "      <th>count</th>\n",
              "      <th>retweets_count</th>\n",
              "      <th>replies_count</th>\n",
              "      <th>likes_count</th>\n",
              "      <th>translation</th>\n",
              "    </tr>\n",
              "  </thead>\n",
              "  <tbody>\n",
              "    <tr>\n",
              "      <th>0</th>\n",
              "      <td>#tunisia</td>\n",
              "      <td>75829</td>\n",
              "      <td>17998</td>\n",
              "      <td>14895</td>\n",
              "      <td>7</td>\n",
              "      <td>1333</td>\n",
              "      <td>tunisia</td>\n",
              "    </tr>\n",
              "    <tr>\n",
              "      <th>1</th>\n",
              "      <td>#egypt</td>\n",
              "      <td>61017</td>\n",
              "      <td>11002</td>\n",
              "      <td>11989</td>\n",
              "      <td>4</td>\n",
              "      <td>1060</td>\n",
              "      <td>egypt</td>\n",
              "    </tr>\n",
              "    <tr>\n",
              "      <th>2</th>\n",
              "      <td>#jan25</td>\n",
              "      <td>41389</td>\n",
              "      <td>4804</td>\n",
              "      <td>8167</td>\n",
              "      <td>2</td>\n",
              "      <td>548</td>\n",
              "      <td>Impotence</td>\n",
              "    </tr>\n",
              "    <tr>\n",
              "      <th>3</th>\n",
              "      <td>#sidibouzid</td>\n",
              "      <td>26003</td>\n",
              "      <td>4512</td>\n",
              "      <td>5120</td>\n",
              "      <td>5</td>\n",
              "      <td>388</td>\n",
              "      <td>Happybazed</td>\n",
              "    </tr>\n",
              "    <tr>\n",
              "      <th>4</th>\n",
              "      <td>#yemen</td>\n",
              "      <td>11371</td>\n",
              "      <td>1844</td>\n",
              "      <td>2231</td>\n",
              "      <td>1</td>\n",
              "      <td>213</td>\n",
              "      <td>yemen</td>\n",
              "    </tr>\n",
              "    <tr>\n",
              "      <th>5</th>\n",
              "      <td>#palestine</td>\n",
              "      <td>4283</td>\n",
              "      <td>445</td>\n",
              "      <td>842</td>\n",
              "      <td>0</td>\n",
              "      <td>73</td>\n",
              "      <td>palestine</td>\n",
              "    </tr>\n",
              "    <tr>\n",
              "      <th>6</th>\n",
              "      <td>#revolution</td>\n",
              "      <td>3277</td>\n",
              "      <td>669</td>\n",
              "      <td>646</td>\n",
              "      <td>0</td>\n",
              "      <td>47</td>\n",
              "      <td>revolution</td>\n",
              "    </tr>\n",
              "    <tr>\n",
              "      <th>7</th>\n",
              "      <td>#tunisie</td>\n",
              "      <td>2885</td>\n",
              "      <td>1301</td>\n",
              "      <td>568</td>\n",
              "      <td>0</td>\n",
              "      <td>45</td>\n",
              "      <td>tunisia</td>\n",
              "    </tr>\n",
              "    <tr>\n",
              "      <th>8</th>\n",
              "      <td>#sotu</td>\n",
              "      <td>2754</td>\n",
              "      <td>550</td>\n",
              "      <td>540</td>\n",
              "      <td>0</td>\n",
              "      <td>54</td>\n",
              "      <td>sotu</td>\n",
              "    </tr>\n",
              "    <tr>\n",
              "      <th>9</th>\n",
              "      <td>#mubarak</td>\n",
              "      <td>2467</td>\n",
              "      <td>428</td>\n",
              "      <td>489</td>\n",
              "      <td>0</td>\n",
              "      <td>22</td>\n",
              "      <td>mubarak</td>\n",
              "    </tr>\n",
              "  </tbody>\n",
              "</table>\n",
              "</div>"
            ],
            "text/plain": [
              "       hashtag  score  count  ...  replies_count  likes_count  translation\n",
              "0     #tunisia  75829  17998  ...              7         1333      tunisia\n",
              "1       #egypt  61017  11002  ...              4         1060        egypt\n",
              "2       #jan25  41389   4804  ...              2          548    Impotence\n",
              "3  #sidibouzid  26003   4512  ...              5          388   Happybazed\n",
              "4       #yemen  11371   1844  ...              1          213        yemen\n",
              "5   #palestine   4283    445  ...              0           73    palestine\n",
              "6  #revolution   3277    669  ...              0           47   revolution\n",
              "7     #tunisie   2885   1301  ...              0           45      tunisia\n",
              "8        #sotu   2754    550  ...              0           54         sotu\n",
              "9     #mubarak   2467    428  ...              0           22      mubarak\n",
              "\n",
              "[10 rows x 7 columns]"
            ]
          },
          "metadata": {
            "tags": []
          },
          "execution_count": 21
        }
      ]
    },
    {
      "cell_type": "markdown",
      "metadata": {
        "id": "KuN8YjCTn1uJ",
        "colab_type": "text"
      },
      "source": [
        "*In Ägypten beginnt der Volksaufstand am 25. Januar 2011, als zehntausende Demonstranten in Kairo auf dem Tahrir-Platz, dem Platz der Befreiung, den Rücktritt der Regierung fordern. Das korrupte und autoritäre Regime von Hosni Mubarak setzt auf Härte. Die Sicherheitskräfte gehen von Anfang an massiv gegen die Proteste vor. Zunächst werden Facebook und Twitter gesperrt, dann das Internet und die Mobilfunknetze abgeschaltet.*"
      ]
    },
    {
      "cell_type": "markdown",
      "metadata": {
        "id": "szG_JhKgn5wy",
        "colab_type": "text"
      },
      "source": [
        "* Twitter is used by the protestors as communication tool to show ground info in realtime - also explicit to the west\n",
        "* they therfore mainly used hastags in english language, even with arabic posts\n",
        " "
      ]
    },
    {
      "cell_type": "markdown",
      "metadata": {
        "id": "YIdwVs0wjKnz",
        "colab_type": "text"
      },
      "source": [
        "### Time series of Hashtags"
      ]
    },
    {
      "cell_type": "code",
      "metadata": {
        "id": "YX6ltuL-jPYN",
        "colab_type": "code",
        "colab": {
          "base_uri": "https://localhost:8080/",
          "height": 407
        },
        "outputId": "84802bd9-63b2-416d-9782-dbf53e5595eb"
      },
      "source": [
        "df['sidibouzid'] = twitter_fct.ht2var(df,'sidibouzid')\n",
        "df['jan25'] = twitter_fct.ht2var(df,'jan25')\n",
        "df['egypt'] = twitter_fct.ht2var(df,'egypt')\n",
        "df['wikileaks'] = twitter_fct.ht2var(df,'wikileaks')\n",
        "df['yemen'] = twitter_fct.ht2var(df,'yemen')\n",
        "\n",
        "df.groupby('date')[['sidibouzid','jan25','egypt','wikileaks','yemen']].sum().plot(figsize=(15,5))\n",
        "plt.xticks(rotation=45)"
      ],
      "execution_count": null,
      "outputs": [
        {
          "output_type": "execute_result",
          "data": {
            "text/plain": [
              "(array([-25.,   0.,  25.,  50.,  75., 100., 125., 150., 175., 200.]),\n",
              " <a list of 10 Text major ticklabel objects>)"
            ]
          },
          "metadata": {
            "tags": []
          },
          "execution_count": 22
        },
        {
          "output_type": "display_data",
          "data": {
            "image/png": "[encoded data removed]",
            "text/plain": [
              "<Figure size 1080x360 with 1 Axes>"
            ]
          },
          "metadata": {
            "tags": [],
            "needs_background": "light"
          }
        }
      ]
    },
    {
      "cell_type": "code",
      "metadata": {
        "id": "8Y9S_h-7Qi58",
        "colab_type": "code",
        "colab": {
          "base_uri": "https://localhost:8080/",
          "height": 194
        },
        "outputId": "707b558c-c74a-4644-d412-33e227779f92"
      },
      "source": [
        "df[['sidibouzid','jan25','egypt','wikileaks','yemen']].corr()"
      ],
      "execution_count": null,
      "outputs": [
        {
          "output_type": "execute_result",
          "data": {
            "text/html": [
              "<div>\n",
              "<style scoped>\n",
              "    .dataframe tbody tr th:only-of-type {\n",
              "        vertical-align: middle;\n",
              "    }\n",
              "\n",
              "    .dataframe tbody tr th {\n",
              "        vertical-align: top;\n",
              "    }\n",
              "\n",
              "    .dataframe thead th {\n",
              "        text-align: right;\n",
              "    }\n",
              "</style>\n",
              "<table border=\"1\" class=\"dataframe\">\n",
              "  <thead>\n",
              "    <tr style=\"text-align: right;\">\n",
              "      <th></th>\n",
              "      <th>sidibouzid</th>\n",
              "      <th>jan25</th>\n",
              "      <th>egypt</th>\n",
              "      <th>wikileaks</th>\n",
              "      <th>yemen</th>\n",
              "    </tr>\n",
              "  </thead>\n",
              "  <tbody>\n",
              "    <tr>\n",
              "      <th>sidibouzid</th>\n",
              "      <td>1.000000</td>\n",
              "      <td>0.109863</td>\n",
              "      <td>0.016487</td>\n",
              "      <td>0.000204</td>\n",
              "      <td>-0.005871</td>\n",
              "    </tr>\n",
              "    <tr>\n",
              "      <th>jan25</th>\n",
              "      <td>0.109863</td>\n",
              "      <td>1.000000</td>\n",
              "      <td>0.197573</td>\n",
              "      <td>0.003178</td>\n",
              "      <td>0.062646</td>\n",
              "    </tr>\n",
              "    <tr>\n",
              "      <th>egypt</th>\n",
              "      <td>0.016487</td>\n",
              "      <td>0.197573</td>\n",
              "      <td>1.000000</td>\n",
              "      <td>0.028681</td>\n",
              "      <td>0.362445</td>\n",
              "    </tr>\n",
              "    <tr>\n",
              "      <th>wikileaks</th>\n",
              "      <td>0.000204</td>\n",
              "      <td>0.003178</td>\n",
              "      <td>0.028681</td>\n",
              "      <td>1.000000</td>\n",
              "      <td>0.011483</td>\n",
              "    </tr>\n",
              "    <tr>\n",
              "      <th>yemen</th>\n",
              "      <td>-0.005871</td>\n",
              "      <td>0.062646</td>\n",
              "      <td>0.362445</td>\n",
              "      <td>0.011483</td>\n",
              "      <td>1.000000</td>\n",
              "    </tr>\n",
              "  </tbody>\n",
              "</table>\n",
              "</div>"
            ],
            "text/plain": [
              "            sidibouzid     jan25     egypt  wikileaks     yemen\n",
              "sidibouzid    1.000000  0.109863  0.016487   0.000204 -0.005871\n",
              "jan25         0.109863  1.000000  0.197573   0.003178  0.062646\n",
              "egypt         0.016487  0.197573  1.000000   0.028681  0.362445\n",
              "wikileaks     0.000204  0.003178  0.028681   1.000000  0.011483\n",
              "yemen        -0.005871  0.062646  0.362445   0.011483  1.000000"
            ]
          },
          "metadata": {
            "tags": []
          },
          "execution_count": 23
        }
      ]
    },
    {
      "cell_type": "markdown",
      "metadata": {
        "id": "M1hmllLxRxIs",
        "colab_type": "text"
      },
      "source": [
        "#### Influencial User"
      ]
    },
    {
      "cell_type": "code",
      "metadata": {
        "id": "4wnDBsYWRjK8",
        "colab_type": "code",
        "colab": {
          "base_uri": "https://localhost:8080/",
          "height": 124
        },
        "outputId": "243016cf-9ddc-4775-cea5-df0739e114bb"
      },
      "source": [
        "df['username'].value_counts()[:5]"
      ],
      "execution_count": null,
      "outputs": [
        {
          "output_type": "execute_result",
          "data": {
            "text/plain": [
              "ugottoknow        3754\n",
              "stopbloodshed     2916\n",
              "tunisiatrends     2235\n",
              "froghiran         2111\n",
              "counterwording    1742\n",
              "Name: username, dtype: int64"
            ]
          },
          "metadata": {
            "tags": []
          },
          "execution_count": 24
        }
      ]
    },
    {
      "cell_type": "code",
      "metadata": {
        "id": "t_iaY-caTJjI",
        "colab_type": "code",
        "colab": {
          "base_uri": "https://localhost:8080/",
          "height": 396
        },
        "outputId": "0aa0803d-6d32-479b-c858-653a8bde1f16"
      },
      "source": [
        "twitter_fct.mvu(df,10)"
      ],
      "execution_count": null,
      "outputs": [
        {
          "output_type": "stream",
          "text": [
            "/usr/local/lib/python3.6/dist-packages/ipykernel_launcher.py:10: FutureWarning: Indexing with multiple keys (implicitly converted to a tuple of keys) will be deprecated, use a list instead.\n",
            "  # Remove the CWD from sys.path while we load stuff.\n"
          ],
          "name": "stderr"
        },
        {
          "output_type": "execute_result",
          "data": {
            "text/html": [
              "<div>\n",
              "<style scoped>\n",
              "    .dataframe tbody tr th:only-of-type {\n",
              "        vertical-align: middle;\n",
              "    }\n",
              "\n",
              "    .dataframe tbody tr th {\n",
              "        vertical-align: top;\n",
              "    }\n",
              "\n",
              "    .dataframe thead th {\n",
              "        text-align: right;\n",
              "    }\n",
              "</style>\n",
              "<table border=\"1\" class=\"dataframe\">\n",
              "  <thead>\n",
              "    <tr style=\"text-align: right;\">\n",
              "      <th></th>\n",
              "      <th>username</th>\n",
              "      <th>score</th>\n",
              "      <th>count</th>\n",
              "      <th>retweets_count</th>\n",
              "      <th>replies_count</th>\n",
              "      <th>likes_count</th>\n",
              "    </tr>\n",
              "  </thead>\n",
              "  <tbody>\n",
              "    <tr>\n",
              "      <th>0</th>\n",
              "      <td>refugees</td>\n",
              "      <td>16458</td>\n",
              "      <td>126</td>\n",
              "      <td>3255</td>\n",
              "      <td>1</td>\n",
              "      <td>180</td>\n",
              "    </tr>\n",
              "    <tr>\n",
              "      <th>1</th>\n",
              "      <td>breakingnews</td>\n",
              "      <td>13079</td>\n",
              "      <td>33</td>\n",
              "      <td>2578</td>\n",
              "      <td>0</td>\n",
              "      <td>189</td>\n",
              "    </tr>\n",
              "    <tr>\n",
              "      <th>2</th>\n",
              "      <td>ghonim</td>\n",
              "      <td>12341</td>\n",
              "      <td>14</td>\n",
              "      <td>2416</td>\n",
              "      <td>0</td>\n",
              "      <td>261</td>\n",
              "    </tr>\n",
              "    <tr>\n",
              "      <th>3</th>\n",
              "      <td>ajenglish</td>\n",
              "      <td>11938</td>\n",
              "      <td>48</td>\n",
              "      <td>2355</td>\n",
              "      <td>0</td>\n",
              "      <td>163</td>\n",
              "    </tr>\n",
              "    <tr>\n",
              "      <th>4</th>\n",
              "      <td>dima_khatib</td>\n",
              "      <td>11647</td>\n",
              "      <td>253</td>\n",
              "      <td>2301</td>\n",
              "      <td>1</td>\n",
              "      <td>139</td>\n",
              "    </tr>\n",
              "    <tr>\n",
              "      <th>5</th>\n",
              "      <td>bencnn</td>\n",
              "      <td>10875</td>\n",
              "      <td>17</td>\n",
              "      <td>2153</td>\n",
              "      <td>0</td>\n",
              "      <td>110</td>\n",
              "    </tr>\n",
              "    <tr>\n",
              "      <th>6</th>\n",
              "      <td>sultanalqassemi</td>\n",
              "      <td>8405</td>\n",
              "      <td>56</td>\n",
              "      <td>1662</td>\n",
              "      <td>0</td>\n",
              "      <td>95</td>\n",
              "    </tr>\n",
              "    <tr>\n",
              "      <th>7</th>\n",
              "      <td>wikileaks</td>\n",
              "      <td>8105</td>\n",
              "      <td>6</td>\n",
              "      <td>1577</td>\n",
              "      <td>1</td>\n",
              "      <td>217</td>\n",
              "    </tr>\n",
              "    <tr>\n",
              "      <th>8</th>\n",
              "      <td>iamwill</td>\n",
              "      <td>7359</td>\n",
              "      <td>1</td>\n",
              "      <td>1458</td>\n",
              "      <td>0</td>\n",
              "      <td>69</td>\n",
              "    </tr>\n",
              "    <tr>\n",
              "      <th>9</th>\n",
              "      <td>nickkristof</td>\n",
              "      <td>7079</td>\n",
              "      <td>7</td>\n",
              "      <td>1401</td>\n",
              "      <td>0</td>\n",
              "      <td>74</td>\n",
              "    </tr>\n",
              "  </tbody>\n",
              "</table>\n",
              "</div>"
            ],
            "text/plain": [
              "          username  score  count  retweets_count  replies_count  likes_count\n",
              "0         refugees  16458    126            3255              1          180\n",
              "1     breakingnews  13079     33            2578              0          189\n",
              "2           ghonim  12341     14            2416              0          261\n",
              "3        ajenglish  11938     48            2355              0          163\n",
              "4      dima_khatib  11647    253            2301              1          139\n",
              "5           bencnn  10875     17            2153              0          110\n",
              "6  sultanalqassemi   8405     56            1662              0           95\n",
              "7        wikileaks   8105      6            1577              1          217\n",
              "8          iamwill   7359      1            1458              0           69\n",
              "9      nickkristof   7079      7            1401              0           74"
            ]
          },
          "metadata": {
            "tags": []
          },
          "execution_count": 31
        }
      ]
    },
    {
      "cell_type": "code",
      "metadata": {
        "id": "25mKvLAOU-jw",
        "colab_type": "code",
        "colab": {
          "base_uri": "https://localhost:8080/",
          "height": 279
        },
        "outputId": "98bba111-6c6e-468d-cb50-c0adfbde93fb"
      },
      "source": [
        "sample_tweet_link = df[df['username']=='refugees'].iloc[0]['link']\n",
        "display(sample_tweet_link)\n",
        "twitter_fct.show_tweet(sample_tweet_link)"
      ],
      "execution_count": null,
      "outputs": [
        {
          "output_type": "display_data",
          "data": {
            "application/vnd.google.colaboratory.intrinsic+json": {
              "type": "string"
            },
            "text/plain": [
              "'https://twitter.com/Refugees/status/42949859334045696'"
            ]
          },
          "metadata": {
            "tags": []
          }
        },
        {
          "output_type": "display_data",
          "data": {
            "text/html": [
              "<blockquote class=\"twitter-tweet\"><p lang=\"en\" dir=\"ltr\">Shelter! Shelter! Shelter! Tens of thousands need shelter at the Tunisian border, as Tunisia opens its borders for all. <a href=\"https://twitter.com/hashtag/Libya?src=hash&amp;ref_src=twsrc%5Etfw\">#Libya</a></p>&mdash; UNHCR, the UN Refugee Agency (@Refugees) <a href=\"https://twitter.com/Refugees/status/42949859334045696?ref_src=twsrc%5Etfw\">March 2, 2011</a></blockquote>\n",
              "<script async src=\"https://platform.twitter.com/widgets.js\" charset=\"utf-8\"></script>\n"
            ],
            "text/plain": [
              "<IPython.core.display.HTML object>"
            ]
          },
          "metadata": {
            "tags": []
          }
        }
      ]
    },
    {
      "cell_type": "code",
      "metadata": {
        "id": "K_yJGIalVX8d",
        "colab_type": "code",
        "colab": {
          "base_uri": "https://localhost:8080/",
          "height": 279
        },
        "outputId": "4510c66b-64ce-4861-e051-1560995da2de"
      },
      "source": [
        "sample_tweet_link = df[df['username']=='breakingnews'].iloc[0]['link']\n",
        "display(sample_tweet_link)\n",
        "twitter_fct.show_tweet(sample_tweet_link)"
      ],
      "execution_count": null,
      "outputs": [
        {
          "output_type": "display_data",
          "data": {
            "application/vnd.google.colaboratory.intrinsic+json": {
              "type": "string"
            },
            "text/plain": [
              "'https://twitter.com/BreakingNews/status/30553383001657344'"
            ]
          },
          "metadata": {
            "tags": []
          }
        },
        {
          "output_type": "display_data",
          "data": {
            "text/html": [
              "<blockquote class=\"twitter-tweet\"><p lang=\"en\" dir=\"ltr\">Thousands of Yemenis take to the streets of capital Sanaa demanding change in government, inspired by unrest in Egypt, Tunisia - Reuters</p>&mdash; Breaking News (@BreakingNews) <a href=\"https://twitter.com/BreakingNews/status/30553383001657344?ref_src=twsrc%5Etfw\">January 27, 2011</a></blockquote>\n",
              "<script async src=\"https://platform.twitter.com/widgets.js\" charset=\"utf-8\"></script>\n"
            ],
            "text/plain": [
              "<IPython.core.display.HTML object>"
            ]
          },
          "metadata": {
            "tags": []
          }
        }
      ]
    },
    {
      "cell_type": "code",
      "metadata": {
        "id": "tWJZ9cgIVeR_",
        "colab_type": "code",
        "colab": {
          "base_uri": "https://localhost:8080/",
          "height": 279
        },
        "outputId": "8931c391-5f85-4d8a-96b6-6b9951c3f1e6"
      },
      "source": [
        "sample_tweet_link = df[df['username']=='ghonim'].iloc[0]['link']\n",
        "display(sample_tweet_link)\n",
        "twitter_fct.show_tweet(sample_tweet_link)"
      ],
      "execution_count": null,
      "outputs": [
        {
          "output_type": "display_data",
          "data": {
            "application/vnd.google.colaboratory.intrinsic+json": {
              "type": "string"
            },
            "text/plain": [
              "'https://twitter.com/Ghonim/status/41983439280283648'"
            ]
          },
          "metadata": {
            "tags": []
          }
        },
        {
          "output_type": "display_data",
          "data": {
            "text/html": [
              "<blockquote class=\"twitter-tweet\"><p lang=\"en\" dir=\"ltr\"><a href=\"https://twitter.com/hashtag/Egypt?src=hash&amp;ref_src=twsrc%5Etfw\">#Egypt</a> Foreign minister is still in power after <a href=\"https://twitter.com/hashtag/Jan25?src=hash&amp;ref_src=twsrc%5Etfw\">#Jan25</a> while French Foreign Minister is forced to resigned after <a href=\"https://twitter.com/hashtag/Tunisia?src=hash&amp;ref_src=twsrc%5Etfw\">#Tunisia</a> Revolution! Shame!</p>&mdash; Wael Ghonim 🦅 (@Ghonim) <a href=\"https://twitter.com/Ghonim/status/41983439280283648?ref_src=twsrc%5Etfw\">February 27, 2011</a></blockquote>\n",
              "<script async src=\"https://platform.twitter.com/widgets.js\" charset=\"utf-8\"></script>\n"
            ],
            "text/plain": [
              "<IPython.core.display.HTML object>"
            ]
          },
          "metadata": {
            "tags": []
          }
        }
      ]
    },
    {
      "cell_type": "markdown",
      "metadata": {
        "id": "JCMnXHHW__wh",
        "colab_type": "text"
      },
      "source": [
        "# Twitter Listening for al-Anbar Region"
      ]
    },
    {
      "cell_type": "markdown",
      "metadata": {
        "id": "EOUi1MrnqcWR",
        "colab_type": "text"
      },
      "source": [
        "get twitter posts for lookup text on monthly basis"
      ]
    },
    {
      "cell_type": "code",
      "metadata": {
        "id": "SP_Hmt-Ndr6s",
        "colab_type": "code",
        "colab": {}
      },
      "source": [
        "lookup = 'الانبار محافظة'\n",
        "start = '12-01-2019'\n",
        "end = '12-01-2019'\n",
        "dirn = path_drive + 'alanbar_ar'\n",
        "min_repost = 1\n",
        "\n",
        "if False:\n",
        "    twitter_fct.twint_loop(lookup,start,end,dirn,min_repost)"
      ],
      "execution_count": null,
      "outputs": []
    },
    {
      "cell_type": "code",
      "metadata": {
        "id": "PqEBoBYjvnH-",
        "colab_type": "code",
        "colab": {
          "base_uri": "https://localhost:8080/",
          "height": 124
        },
        "outputId": "7a2ec279-bf30-47e3-95f3-498efdb183cc"
      },
      "source": [
        "dirn = path_drive + 'alanbar'\n",
        "df = twitter_fct.load_folder(dirn+'/')"
      ],
      "execution_count": null,
      "outputs": [
        {
          "output_type": "stream",
          "text": [
            "tweets: 552\n",
            "tweets per day: 3.16 from 2020-01-01 00:00:00 to 2020-09-13 00:00:00\n",
            "en    357\n",
            "es     86\n",
            "fr     61\n",
            "Name: lang, dtype: int64\n"
          ],
          "name": "stdout"
        }
      ]
    },
    {
      "cell_type": "markdown",
      "metadata": {
        "id": "vZ7vVlP3tBWz",
        "colab_type": "text"
      },
      "source": [
        "# al-Anbar"
      ]
    },
    {
      "cell_type": "markdown",
      "metadata": {
        "id": "QSBRuoazwLBJ",
        "colab_type": "text"
      },
      "source": [
        "load data and print date range, number of tweets (per day) and distrubution of languages"
      ]
    },
    {
      "cell_type": "code",
      "metadata": {
        "id": "87B2LNapvTUR",
        "colab_type": "code",
        "colab": {
          "base_uri": "https://localhost:8080/",
          "height": 124
        },
        "outputId": "22af9ad5-8a7b-4586-fb1e-b29d55c20e98"
      },
      "source": [
        "dirn = path_drive + 'alanbar'\n",
        "df = twitter_fct.load_folder(dirn+'/')"
      ],
      "execution_count": null,
      "outputs": [
        {
          "output_type": "stream",
          "text": [
            "tweets: 552\n",
            "tweets per day: 3.16 from 2020-01-01 00:00:00 to 2020-09-13 00:00:00\n",
            "en    357\n",
            "es     86\n",
            "fr     61\n",
            "Name: lang, dtype: int64\n"
          ],
          "name": "stdout"
        }
      ]
    },
    {
      "cell_type": "code",
      "metadata": {
        "id": "lICg0XkQ9hW8",
        "colab_type": "code",
        "colab": {}
      },
      "source": [
        "df = df[df['lang']=='en']\n",
        "df['senti'] = df['tweet'].apply(lambda x: sent_score(x))"
      ],
      "execution_count": null,
      "outputs": []
    },
    {
      "cell_type": "markdown",
      "metadata": {
        "id": "oEueWzbLwWZv",
        "colab_type": "text"
      },
      "source": [
        "show number of tweets on a timeline"
      ]
    },
    {
      "cell_type": "code",
      "metadata": {
        "id": "nXBHoIUTvUAK",
        "colab_type": "code",
        "colab": {
          "base_uri": "https://localhost:8080/",
          "height": 168
        },
        "outputId": "429c29d2-607f-43fb-8ee1-efa4b36eeaa5"
      },
      "source": [
        "plot_ts(df)"
      ],
      "execution_count": null,
      "outputs": [
        {
          "output_type": "error",
          "ename": "NameError",
          "evalue": "ignored",
          "traceback": [
            "\u001b[0;31m---------------------------------------------------------------------------\u001b[0m",
            "\u001b[0;31mNameError\u001b[0m                                 Traceback (most recent call last)",
            "\u001b[0;32m<ipython-input-9-a8a9437c0bb1>\u001b[0m in \u001b[0;36m<module>\u001b[0;34m()\u001b[0m\n\u001b[0;32m----> 1\u001b[0;31m \u001b[0mplot_ts\u001b[0m\u001b[0;34m(\u001b[0m\u001b[0mdf\u001b[0m\u001b[0;34m)\u001b[0m\u001b[0;34m\u001b[0m\u001b[0;34m\u001b[0m\u001b[0m\n\u001b[0m",
            "\u001b[0;31mNameError\u001b[0m: name 'plot_ts' is not defined"
          ]
        }
      ]
    },
    {
      "cell_type": "markdown",
      "metadata": {
        "id": "GyfEXgpxCyKX",
        "colab_type": "text"
      },
      "source": [
        "### Sentiment"
      ]
    },
    {
      "cell_type": "code",
      "metadata": {
        "id": "PG56X6R0CaiU",
        "colab_type": "code",
        "colab": {
          "base_uri": "https://localhost:8080/",
          "height": 297
        },
        "outputId": "29db7ed1-f341-4f9e-96bd-161cb85a2396"
      },
      "source": [
        "df.groupby('date')['senti'].mean().plot()"
      ],
      "execution_count": null,
      "outputs": [
        {
          "output_type": "execute_result",
          "data": {
            "text/plain": [
              "<matplotlib.axes._subplots.AxesSubplot at 0x7f0334afa470>"
            ]
          },
          "metadata": {
            "tags": []
          },
          "execution_count": 13
        },
        {
          "output_type": "display_data",
          "data": {
            "image/png": "[encoded data removed]",
            "text/plain": [
              "<Figure size 432x288 with 1 Axes>"
            ]
          },
          "metadata": {
            "tags": [],
            "needs_background": "light"
          }
        }
      ]
    },
    {
      "cell_type": "code",
      "metadata": {
        "id": "SshdpKN-DjxH",
        "colab_type": "code",
        "colab": {
          "base_uri": "https://localhost:8080/",
          "height": 392
        },
        "outputId": "02b17be3-8ecc-4b1f-d7e9-c14fd939afae"
      },
      "source": [
        "df = df.sort_values('senti')\n",
        "\n",
        "print('negative')\n",
        "for i in [0,1,2]:\n",
        "    print(df['tweet'].iloc[i])\n",
        "    print(df['senti'].iloc[i])\n",
        "print()\n",
        "print('positive')\n",
        "for i in [0,1,2]:\n",
        "    j = len(df) - i -1\n",
        "    print(df['tweet'].iloc[j])\n",
        "    print(df['senti'].iloc[j])"
      ],
      "execution_count": null,
      "outputs": [
        {
          "output_type": "stream",
          "text": [
            "negative\n",
            "An Iraqi source said the al-Assad radar system was completely destroyed by the US air base in al-Anbar province in Iraq. Whereas @POTUS said there happened no causality.  https://parstoday.com/bn/news/iran-i76565 …\n",
            "-0.999564528465271\n",
            "Think about of all places Iran could hit, it goes for the northern military bases in Erbil and Al-Anbar. It doesn’t take a genius to figure out where their alliances are.\n",
            "-0.9995473623275757\n",
            "Though @POTUS claimed there's no causality. An Iraqi source said the al-Assad radar system was completely destroyed at the US air base in al-Anbar province in Iraq.\n",
            "\n",
            "And Israeli source said that 227 wounded US troops were taken to Tel Aviv for treatment.  https://parstoday.com/bn/news/iran-i76565 …\n",
            "-0.9995070695877075\n",
            "\n",
            "positive\n",
            "It snowed in Al-Anbar province on Christmas Day 2003. It was impressive to see.\n",
            "0.9997878670692444\n",
            "Great article, thank you. Reminded me of my own time in Iraq with the 11th MEU and similar efforts we undertook in the Al-Anbar province, specifically the area around Najaf.\n",
            "0.999777615070343\n",
            "Making intro for our Cyber Protocol was super fun and we are really proud of it 😎 Here are some #behindthescenes images 👀\n",
            "@CyberProtocol77 will soon be available on @Steam:\n",
            "🦾  http://bit.ly/cp_steam \n",
            "#IndieDev #StartToFinish pic.twitter.com/iEoBbKfx6o\n",
            "0.9992874264717102\n"
          ],
          "name": "stdout"
        }
      ]
    },
    {
      "cell_type": "markdown",
      "metadata": {
        "id": "Z_d7DUdXwdFI",
        "colab_type": "text"
      },
      "source": [
        "show most popular hashtags, weighted by likes, replies and retweets"
      ]
    },
    {
      "cell_type": "code",
      "metadata": {
        "id": "F_4QuWgSvwEB",
        "colab_type": "code",
        "colab": {
          "base_uri": "https://localhost:8080/",
          "height": 396
        },
        "outputId": "0a2474c4-e00e-4ea1-8978-e8625cd6c01c"
      },
      "source": [
        "twitter_fct.mvh(df,10)"
      ],
      "execution_count": null,
      "outputs": [
        {
          "output_type": "stream",
          "text": [
            "/content/fragile_context/twitter_fct.py:96: FutureWarning: Indexing with multiple keys (implicitly converted to a tuple of keys) will be deprecated, use a list instead.\n",
            "  hashtags_g = hashtags.groupby('hashtag')['score','count','retweets_count','replies_count','likes_count'].sum()\n"
          ],
          "name": "stderr"
        },
        {
          "output_type": "execute_result",
          "data": {
            "text/html": [
              "<div>\n",
              "<style scoped>\n",
              "    .dataframe tbody tr th:only-of-type {\n",
              "        vertical-align: middle;\n",
              "    }\n",
              "\n",
              "    .dataframe tbody tr th {\n",
              "        vertical-align: top;\n",
              "    }\n",
              "\n",
              "    .dataframe thead th {\n",
              "        text-align: right;\n",
              "    }\n",
              "</style>\n",
              "<table border=\"1\" class=\"dataframe\">\n",
              "  <thead>\n",
              "    <tr style=\"text-align: right;\">\n",
              "      <th></th>\n",
              "      <th>hashtag</th>\n",
              "      <th>score</th>\n",
              "      <th>count</th>\n",
              "      <th>retweets_count</th>\n",
              "      <th>replies_count</th>\n",
              "      <th>likes_count</th>\n",
              "      <th>translation</th>\n",
              "    </tr>\n",
              "  </thead>\n",
              "  <tbody>\n",
              "    <tr>\n",
              "      <th>0</th>\n",
              "      <td>#iraq</td>\n",
              "      <td>5783</td>\n",
              "      <td>71</td>\n",
              "      <td>766</td>\n",
              "      <td>95</td>\n",
              "      <td>1668</td>\n",
              "      <td>iraq</td>\n",
              "    </tr>\n",
              "    <tr>\n",
              "      <th>1</th>\n",
              "      <td>#quiz</td>\n",
              "      <td>2770</td>\n",
              "      <td>1</td>\n",
              "      <td>211</td>\n",
              "      <td>214</td>\n",
              "      <td>1073</td>\n",
              "      <td>quiz</td>\n",
              "    </tr>\n",
              "    <tr>\n",
              "      <th>2</th>\n",
              "      <td>#nintendo</td>\n",
              "      <td>2770</td>\n",
              "      <td>1</td>\n",
              "      <td>211</td>\n",
              "      <td>214</td>\n",
              "      <td>1073</td>\n",
              "      <td>nintendo</td>\n",
              "    </tr>\n",
              "    <tr>\n",
              "      <th>3</th>\n",
              "      <td>#quizprank</td>\n",
              "      <td>2770</td>\n",
              "      <td>1</td>\n",
              "      <td>211</td>\n",
              "      <td>214</td>\n",
              "      <td>1073</td>\n",
              "      <td>quizprank</td>\n",
              "    </tr>\n",
              "    <tr>\n",
              "      <th>4</th>\n",
              "      <td>#us</td>\n",
              "      <td>2029</td>\n",
              "      <td>24</td>\n",
              "      <td>266</td>\n",
              "      <td>58</td>\n",
              "      <td>525</td>\n",
              "      <td>us</td>\n",
              "    </tr>\n",
              "    <tr>\n",
              "      <th>5</th>\n",
              "      <td>#usaf</td>\n",
              "      <td>1427</td>\n",
              "      <td>11</td>\n",
              "      <td>189</td>\n",
              "      <td>13</td>\n",
              "      <td>443</td>\n",
              "      <td>usaf</td>\n",
              "    </tr>\n",
              "    <tr>\n",
              "      <th>6</th>\n",
              "      <td>#iran-backed</td>\n",
              "      <td>1324</td>\n",
              "      <td>6</td>\n",
              "      <td>205</td>\n",
              "      <td>10</td>\n",
              "      <td>269</td>\n",
              "      <td>iran-backed</td>\n",
              "    </tr>\n",
              "    <tr>\n",
              "      <th>7</th>\n",
              "      <td>#iran</td>\n",
              "      <td>882</td>\n",
              "      <td>13</td>\n",
              "      <td>119</td>\n",
              "      <td>23</td>\n",
              "      <td>218</td>\n",
              "      <td>iran</td>\n",
              "    </tr>\n",
              "    <tr>\n",
              "      <th>8</th>\n",
              "      <td>#update</td>\n",
              "      <td>852</td>\n",
              "      <td>4</td>\n",
              "      <td>130</td>\n",
              "      <td>6</td>\n",
              "      <td>184</td>\n",
              "      <td>update</td>\n",
              "    </tr>\n",
              "    <tr>\n",
              "      <th>9</th>\n",
              "      <td>#breakingnews</td>\n",
              "      <td>749</td>\n",
              "      <td>2</td>\n",
              "      <td>108</td>\n",
              "      <td>14</td>\n",
              "      <td>167</td>\n",
              "      <td>breakingnews</td>\n",
              "    </tr>\n",
              "  </tbody>\n",
              "</table>\n",
              "</div>"
            ],
            "text/plain": [
              "         hashtag  score  count  ...  replies_count  likes_count   translation\n",
              "0          #iraq   5783     71  ...             95         1668          iraq\n",
              "1          #quiz   2770      1  ...            214         1073          quiz\n",
              "2      #nintendo   2770      1  ...            214         1073      nintendo\n",
              "3     #quizprank   2770      1  ...            214         1073     quizprank\n",
              "4            #us   2029     24  ...             58          525            us\n",
              "5          #usaf   1427     11  ...             13          443          usaf\n",
              "6   #iran-backed   1324      6  ...             10          269   iran-backed\n",
              "7          #iran    882     13  ...             23          218          iran\n",
              "8        #update    852      4  ...              6          184        update\n",
              "9  #breakingnews    749      2  ...             14          167  breakingnews\n",
              "\n",
              "[10 rows x 7 columns]"
            ]
          },
          "metadata": {
            "tags": []
          },
          "execution_count": 11
        }
      ]
    },
    {
      "cell_type": "markdown",
      "metadata": {
        "id": "UY1IZ7wNwkhF",
        "colab_type": "text"
      },
      "source": [
        "### show most lieked tweets"
      ]
    },
    {
      "cell_type": "code",
      "metadata": {
        "id": "d0mDVsF1wDCD",
        "colab_type": "code",
        "colab": {
          "base_uri": "https://localhost:8080/",
          "height": 1000
        },
        "outputId": "0becefe0-d946-412a-c0b4-d642ba7e7a28"
      },
      "source": [
        "for i in [1,2]:\n",
        "    sample_tweet_link = df.iloc[i]['link']\n",
        "    display(sample_tweet_link)\n",
        "    twitter_fct.show_tweet(sample_tweet_link)\n"
      ],
      "execution_count": null,
      "outputs": [
        {
          "output_type": "display_data",
          "data": {
            "application/vnd.google.colaboratory.intrinsic+json": {
              "type": "string"
            },
            "text/plain": [
              "'https://twitter.com/Dorrar_/status/1214782338560749570'"
            ]
          },
          "metadata": {
            "tags": []
          }
        },
        {
          "output_type": "display_data",
          "data": {
            "text/html": [
              "<blockquote class=\"twitter-tweet\"><p lang=\"en\" dir=\"ltr\">Think about of all places Iran could hit, it goes for the northern military bases in Erbil and Al-Anbar. It doesn’t take a genius to figure out where their alliances are.</p>&mdash; دُرّر (@Dorrar_) <a href=\"https://twitter.com/Dorrar_/status/1214782338560749570?ref_src=twsrc%5Etfw\">January 8, 2020</a></blockquote>\n",
              "<script async src=\"https://platform.twitter.com/widgets.js\" charset=\"utf-8\"></script>\n"
            ],
            "text/plain": [
              "<IPython.core.display.HTML object>"
            ]
          },
          "metadata": {
            "tags": []
          }
        },
        {
          "output_type": "display_data",
          "data": {
            "application/vnd.google.colaboratory.intrinsic+json": {
              "type": "string"
            },
            "text/plain": [
              "'https://twitter.com/FazlurR32437526/status/1215645601037242370'"
            ]
          },
          "metadata": {
            "tags": []
          }
        },
        {
          "output_type": "display_data",
          "data": {
            "text/html": [
              "<blockquote class=\"twitter-tweet\"><p lang=\"en\" dir=\"ltr\">Though <a href=\"https://twitter.com/POTUS?ref_src=twsrc%5Etfw\">@POTUS</a> claimed there&#39;s no causality. An Iraqi source said the al-Assad radar system was completely destroyed at the US air base in al-Anbar province in Iraq.<br><br>And Israeli source said that 227 wounded US troops were taken to Tel Aviv for treatment. <a href=\"https://t.co/b0ghCmiGpn\">https://t.co/b0ghCmiGpn</a></p>&mdash; Fazlur Rahman, ruin (@FazlurR32437526) <a href=\"https://twitter.com/FazlurR32437526/status/1215645601037242370?ref_src=twsrc%5Etfw\">January 10, 2020</a></blockquote>\n",
              "<script async src=\"https://platform.twitter.com/widgets.js\" charset=\"utf-8\"></script>\n"
            ],
            "text/plain": [
              "<IPython.core.display.HTML object>"
            ]
          },
          "metadata": {
            "tags": []
          }
        }
      ]
    },
    {
      "cell_type": "markdown",
      "metadata": {
        "id": "6oUm2_pDH-E7",
        "colab_type": "text"
      },
      "source": [
        "### show most influencial users"
      ]
    },
    {
      "cell_type": "code",
      "metadata": {
        "id": "Q3YmshA0FkCM",
        "colab_type": "code",
        "colab": {
          "base_uri": "https://localhost:8080/",
          "height": 396
        },
        "outputId": "24dc0446-7521-40f5-c221-b7bee7048bc9"
      },
      "source": [
        "tw_user = twitter_fct.mvu(df,10)\n",
        "tw_user"
      ],
      "execution_count": null,
      "outputs": [
        {
          "output_type": "stream",
          "text": [
            "/content/fragile_context/twitter_fct.py:109: FutureWarning: Indexing with multiple keys (implicitly converted to a tuple of keys) will be deprecated, use a list instead.\n",
            "  hashtags_g = hashtags.groupby('username')['score','count','retweets_count','replies_count','likes_count'].sum()\n"
          ],
          "name": "stderr"
        },
        {
          "output_type": "execute_result",
          "data": {
            "text/html": [
              "<div>\n",
              "<style scoped>\n",
              "    .dataframe tbody tr th:only-of-type {\n",
              "        vertical-align: middle;\n",
              "    }\n",
              "\n",
              "    .dataframe tbody tr th {\n",
              "        vertical-align: top;\n",
              "    }\n",
              "\n",
              "    .dataframe thead th {\n",
              "        text-align: right;\n",
              "    }\n",
              "</style>\n",
              "<table border=\"1\" class=\"dataframe\">\n",
              "  <thead>\n",
              "    <tr style=\"text-align: right;\">\n",
              "      <th></th>\n",
              "      <th>username</th>\n",
              "      <th>score</th>\n",
              "      <th>count</th>\n",
              "      <th>retweets_count</th>\n",
              "      <th>replies_count</th>\n",
              "      <th>likes_count</th>\n",
              "    </tr>\n",
              "  </thead>\n",
              "  <tbody>\n",
              "    <tr>\n",
              "      <th>0</th>\n",
              "      <td>omg_police</td>\n",
              "      <td>2770</td>\n",
              "      <td>1</td>\n",
              "      <td>211</td>\n",
              "      <td>214</td>\n",
              "      <td>1073</td>\n",
              "    </tr>\n",
              "    <tr>\n",
              "      <th>1</th>\n",
              "      <td>no_itsmyturn</td>\n",
              "      <td>1569</td>\n",
              "      <td>12</td>\n",
              "      <td>180</td>\n",
              "      <td>20</td>\n",
              "      <td>609</td>\n",
              "    </tr>\n",
              "    <tr>\n",
              "      <th>2</th>\n",
              "      <td>heshmatalavi</td>\n",
              "      <td>1318</td>\n",
              "      <td>3</td>\n",
              "      <td>204</td>\n",
              "      <td>10</td>\n",
              "      <td>268</td>\n",
              "    </tr>\n",
              "    <tr>\n",
              "      <th>3</th>\n",
              "      <td>ejmalrai</td>\n",
              "      <td>1290</td>\n",
              "      <td>3</td>\n",
              "      <td>189</td>\n",
              "      <td>26</td>\n",
              "      <td>267</td>\n",
              "    </tr>\n",
              "    <tr>\n",
              "      <th>4</th>\n",
              "      <td>auroraintel</td>\n",
              "      <td>739</td>\n",
              "      <td>2</td>\n",
              "      <td>114</td>\n",
              "      <td>5</td>\n",
              "      <td>154</td>\n",
              "    </tr>\n",
              "    <tr>\n",
              "      <th>5</th>\n",
              "      <td>rattrashreyansh</td>\n",
              "      <td>645</td>\n",
              "      <td>1</td>\n",
              "      <td>68</td>\n",
              "      <td>6</td>\n",
              "      <td>287</td>\n",
              "    </tr>\n",
              "    <tr>\n",
              "      <th>6</th>\n",
              "      <td>n_carvalheira</td>\n",
              "      <td>638</td>\n",
              "      <td>1</td>\n",
              "      <td>69</td>\n",
              "      <td>17</td>\n",
              "      <td>242</td>\n",
              "    </tr>\n",
              "    <tr>\n",
              "      <th>7</th>\n",
              "      <td>shafei_d</td>\n",
              "      <td>486</td>\n",
              "      <td>1</td>\n",
              "      <td>46</td>\n",
              "      <td>5</td>\n",
              "      <td>241</td>\n",
              "    </tr>\n",
              "    <tr>\n",
              "      <th>8</th>\n",
              "      <td>inbarcohen13</td>\n",
              "      <td>459</td>\n",
              "      <td>2</td>\n",
              "      <td>44</td>\n",
              "      <td>19</td>\n",
              "      <td>182</td>\n",
              "    </tr>\n",
              "    <tr>\n",
              "      <th>9</th>\n",
              "      <td>a7_mirza</td>\n",
              "      <td>373</td>\n",
              "      <td>6</td>\n",
              "      <td>54</td>\n",
              "      <td>2</td>\n",
              "      <td>97</td>\n",
              "    </tr>\n",
              "  </tbody>\n",
              "</table>\n",
              "</div>"
            ],
            "text/plain": [
              "          username  score  count  retweets_count  replies_count  likes_count\n",
              "0       omg_police   2770      1             211            214         1073\n",
              "1     no_itsmyturn   1569     12             180             20          609\n",
              "2     heshmatalavi   1318      3             204             10          268\n",
              "3         ejmalrai   1290      3             189             26          267\n",
              "4      auroraintel    739      2             114              5          154\n",
              "5  rattrashreyansh    645      1              68              6          287\n",
              "6    n_carvalheira    638      1              69             17          242\n",
              "7         shafei_d    486      1              46              5          241\n",
              "8     inbarcohen13    459      2              44             19          182\n",
              "9         a7_mirza    373      6              54              2           97"
            ]
          },
          "metadata": {
            "tags": []
          },
          "execution_count": 20
        }
      ]
    },
    {
      "cell_type": "code",
      "metadata": {
        "id": "LAAXQiNGGkOV",
        "colab_type": "code",
        "colab": {
          "base_uri": "https://localhost:8080/",
          "height": 1000
        },
        "outputId": "7cead2e5-f816-4d76-fa85-ec9484a51b95"
      },
      "source": [
        "for users in tw_user['username'][:3]:\n",
        "    sample_tweet_link = df[df['username']==users].iloc[0]['link']\n",
        "    display(sample_tweet_link)\n",
        "    twitter_fct.show_tweet(sample_tweet_link)"
      ],
      "execution_count": null,
      "outputs": [
        {
          "output_type": "display_data",
          "data": {
            "application/vnd.google.colaboratory.intrinsic+json": {
              "type": "string"
            },
            "text/plain": [
              "'https://twitter.com/Omg_Police/status/1289590675978072064'"
            ]
          },
          "metadata": {
            "tags": []
          }
        },
        {
          "output_type": "display_data",
          "data": {
            "text/html": [
              "<blockquote class=\"twitter-tweet\"><p lang=\"en\" dir=\"ltr\">What’s the number?<a href=\"https://twitter.com/hashtag/quiz?src=hash&amp;ref_src=twsrc%5Etfw\">#quiz</a> <a href=\"https://twitter.com/hashtag/quizprank?src=hash&amp;ref_src=twsrc%5Etfw\">#quizprank</a> <a href=\"https://twitter.com/hashtag/nintendo?src=hash&amp;ref_src=twsrc%5Etfw\">#nintendo</a> <br>Wait. ReTweet. Click 👇<br>👉<a href=\"https://t.co/IkgwtGSvb8\">https://t.co/IkgwtGSvb8</a><br><br> <a href=\"https://t.co/RyDPuBpQCS\">pic.twitter.com/RyDPuBpQCS</a></p>&mdash; Omg_Police (@Omg_Police) <a href=\"https://twitter.com/Omg_Police/status/1289590675978072064?ref_src=twsrc%5Etfw\">August 1, 2020</a></blockquote>\n",
              "<script async src=\"https://platform.twitter.com/widgets.js\" charset=\"utf-8\"></script>\n"
            ],
            "text/plain": [
              "<IPython.core.display.HTML object>"
            ]
          },
          "metadata": {
            "tags": []
          }
        },
        {
          "output_type": "display_data",
          "data": {
            "application/vnd.google.colaboratory.intrinsic+json": {
              "type": "string"
            },
            "text/plain": [
              "'https://twitter.com/no_itsmyturn/status/1213930091404832768'"
            ]
          },
          "metadata": {
            "tags": []
          }
        },
        {
          "output_type": "display_data",
          "data": {
            "text/html": [
              "<blockquote class=\"twitter-tweet\"><p lang=\"en\" dir=\"ltr\">And over Saladin, Al-Anbar, Mosul as well! <a href=\"https://t.co/StpmPz1pya\">https://t.co/StpmPz1pya</a></p>&mdash; Aleph א (@no_itsmyturn) <a href=\"https://twitter.com/no_itsmyturn/status/1213930091404832768?ref_src=twsrc%5Etfw\">January 5, 2020</a></blockquote>\n",
              "<script async src=\"https://platform.twitter.com/widgets.js\" charset=\"utf-8\"></script>\n"
            ],
            "text/plain": [
              "<IPython.core.display.HTML object>"
            ]
          },
          "metadata": {
            "tags": []
          }
        },
        {
          "output_type": "display_data",
          "data": {
            "application/vnd.google.colaboratory.intrinsic+json": {
              "type": "string"
            },
            "text/plain": [
              "'https://twitter.com/HeshmatAlavi/status/1212327754538135553'"
            ]
          },
          "metadata": {
            "tags": []
          }
        },
        {
          "output_type": "display_data",
          "data": {
            "text/html": [
              "<blockquote class=\"twitter-tweet\"><p lang=\"en\" dir=\"ltr\"><a href=\"https://twitter.com/hashtag/UPDATE?src=hash&amp;ref_src=twsrc%5Etfw\">#UPDATE</a><br>Jan 1 - Baghdad, <a href=\"https://twitter.com/hashtag/Iraq?src=hash&amp;ref_src=twsrc%5Etfw\">#Iraq</a><br><br>-<a href=\"https://twitter.com/hashtag/Iran?src=hash&amp;ref_src=twsrc%5Etfw\">#Iran</a>-backed militia members/supporters dismantling tents &amp; withdrawing from U.S. Embassy compound<br><br>-Reports show US forces deployed from al-Anbar Province in western Iraq to the Green Zone to reinforce protection for the U.S.<br><br>(File Photo) <a href=\"https://t.co/NFqmDAxg4E\">pic.twitter.com/NFqmDAxg4E</a></p>&mdash; Heshmat Alavi (@HeshmatAlavi) <a href=\"https://twitter.com/HeshmatAlavi/status/1212327754538135553?ref_src=twsrc%5Etfw\">January 1, 2020</a></blockquote>\n",
              "<script async src=\"https://platform.twitter.com/widgets.js\" charset=\"utf-8\"></script>\n"
            ],
            "text/plain": [
              "<IPython.core.display.HTML object>"
            ]
          },
          "metadata": {
            "tags": []
          }
        }
      ]
    },
    {
      "cell_type": "markdown",
      "metadata": {
        "id": "1C_g_juLvUKm",
        "colab_type": "text"
      },
      "source": [
        "# al-Anbar (arab lang scraped)"
      ]
    },
    {
      "cell_type": "code",
      "metadata": {
        "id": "_JZyBVfSfyF-",
        "colab_type": "code",
        "colab": {
          "base_uri": "https://localhost:8080/",
          "height": 124
        },
        "outputId": "b96a6382-ff43-4330-abd0-ce2e7598f2c0"
      },
      "source": [
        "dirn = path_drive + 'alanbar_ar'\n",
        "df = twitter_fct.load_folder(dirn+'/')"
      ],
      "execution_count": null,
      "outputs": [
        {
          "output_type": "stream",
          "text": [
            "tweets: 5711\n",
            "tweets per day: 20.97 from 2019-12-03 00:00:00 to 2020-09-14 00:00:00\n",
            "ar    5488\n",
            "es      85\n",
            "en      57\n",
            "Name: lang, dtype: int64\n"
          ],
          "name": "stdout"
        }
      ]
    },
    {
      "cell_type": "code",
      "metadata": {
        "id": "ArDnbVJUf5h8",
        "colab_type": "code",
        "colab": {
          "base_uri": "https://localhost:8080/",
          "height": 299
        },
        "outputId": "db1ba6f7-b00b-4446-c52b-4942ded56be3"
      },
      "source": [
        "df.groupby('date')['conversation_id'].count().plot(figsize=(15,3))\n",
        "plt.xticks(rotation=45)"
      ],
      "execution_count": null,
      "outputs": [
        {
          "output_type": "execute_result",
          "data": {
            "text/plain": [
              "(array([-50.,   0.,  50., 100., 150., 200., 250., 300.]),\n",
              " <a list of 8 Text major ticklabel objects>)"
            ]
          },
          "metadata": {
            "tags": []
          },
          "execution_count": 22
        },
        {
          "output_type": "display_data",
          "data": {
            "image/png": "[encoded data removed]",
            "text/plain": [
              "<Figure size 1080x216 with 1 Axes>"
            ]
          },
          "metadata": {
            "tags": [],
            "needs_background": "light"
          }
        }
      ]
    },
    {
      "cell_type": "code",
      "metadata": {
        "id": "-mVAa7vDg0BM",
        "colab_type": "code",
        "colab": {
          "base_uri": "https://localhost:8080/",
          "height": 396
        },
        "outputId": "79e44940-42f1-492b-8008-ac7f0fb68805"
      },
      "source": [
        "twitter_fct.mvh(df,10)"
      ],
      "execution_count": null,
      "outputs": [
        {
          "output_type": "stream",
          "text": [
            "/content/fragile_context/twitter_fct.py:96: FutureWarning: Indexing with multiple keys (implicitly converted to a tuple of keys) will be deprecated, use a list instead.\n",
            "  hashtags_g = hashtags.groupby('hashtag')['score','count','retweets_count','replies_count','likes_count'].sum()\n"
          ],
          "name": "stderr"
        },
        {
          "output_type": "execute_result",
          "data": {
            "text/html": [
              "<div>\n",
              "<style scoped>\n",
              "    .dataframe tbody tr th:only-of-type {\n",
              "        vertical-align: middle;\n",
              "    }\n",
              "\n",
              "    .dataframe tbody tr th {\n",
              "        vertical-align: top;\n",
              "    }\n",
              "\n",
              "    .dataframe thead th {\n",
              "        text-align: right;\n",
              "    }\n",
              "</style>\n",
              "<table border=\"1\" class=\"dataframe\">\n",
              "  <thead>\n",
              "    <tr style=\"text-align: right;\">\n",
              "      <th></th>\n",
              "      <th>hashtag</th>\n",
              "      <th>score</th>\n",
              "      <th>count</th>\n",
              "      <th>retweets_count</th>\n",
              "      <th>replies_count</th>\n",
              "      <th>likes_count</th>\n",
              "      <th>translation</th>\n",
              "    </tr>\n",
              "  </thead>\n",
              "  <tbody>\n",
              "    <tr>\n",
              "      <th>0</th>\n",
              "      <td>#الانبار</td>\n",
              "      <td>27576</td>\n",
              "      <td>369</td>\n",
              "      <td>1801</td>\n",
              "      <td>2933</td>\n",
              "      <td>9772</td>\n",
              "      <td>Anbar</td>\n",
              "    </tr>\n",
              "    <tr>\n",
              "      <th>1</th>\n",
              "      <td>#العراق</td>\n",
              "      <td>27209</td>\n",
              "      <td>611</td>\n",
              "      <td>2232</td>\n",
              "      <td>1292</td>\n",
              "      <td>12173</td>\n",
              "      <td>Iraq</td>\n",
              "    </tr>\n",
              "    <tr>\n",
              "      <th>2</th>\n",
              "      <td>#الأنبار</td>\n",
              "      <td>24171</td>\n",
              "      <td>612</td>\n",
              "      <td>2131</td>\n",
              "      <td>1188</td>\n",
              "      <td>9952</td>\n",
              "      <td>Anbar</td>\n",
              "    </tr>\n",
              "    <tr>\n",
              "      <th>3</th>\n",
              "      <td>#داعش</td>\n",
              "      <td>10924</td>\n",
              "      <td>49</td>\n",
              "      <td>318</td>\n",
              "      <td>1792</td>\n",
              "      <td>3958</td>\n",
              "      <td>Isis</td>\n",
              "    </tr>\n",
              "    <tr>\n",
              "      <th>4</th>\n",
              "      <td>#عاجل</td>\n",
              "      <td>9994</td>\n",
              "      <td>212</td>\n",
              "      <td>820</td>\n",
              "      <td>391</td>\n",
              "      <td>4721</td>\n",
              "      <td>Urgent</td>\n",
              "    </tr>\n",
              "    <tr>\n",
              "      <th>5</th>\n",
              "      <td>#الحشد_الشعبي</td>\n",
              "      <td>7973</td>\n",
              "      <td>53</td>\n",
              "      <td>783</td>\n",
              "      <td>357</td>\n",
              "      <td>2987</td>\n",
              "      <td>The popular crowd</td>\n",
              "    </tr>\n",
              "    <tr>\n",
              "      <th>6</th>\n",
              "      <td>#الإرهاب</td>\n",
              "      <td>5274</td>\n",
              "      <td>17</td>\n",
              "      <td>603</td>\n",
              "      <td>278</td>\n",
              "      <td>1425</td>\n",
              "      <td>Terror</td>\n",
              "    </tr>\n",
              "    <tr>\n",
              "      <th>7</th>\n",
              "      <td>#إيران</td>\n",
              "      <td>5274</td>\n",
              "      <td>34</td>\n",
              "      <td>593</td>\n",
              "      <td>276</td>\n",
              "      <td>1481</td>\n",
              "      <td>Iran</td>\n",
              "    </tr>\n",
              "    <tr>\n",
              "      <th>8</th>\n",
              "      <td>#عين_الأسد</td>\n",
              "      <td>5167</td>\n",
              "      <td>53</td>\n",
              "      <td>263</td>\n",
              "      <td>195</td>\n",
              "      <td>3267</td>\n",
              "      <td>Lion</td>\n",
              "    </tr>\n",
              "    <tr>\n",
              "      <th>9</th>\n",
              "      <td>#خامنئي</td>\n",
              "      <td>4445</td>\n",
              "      <td>13</td>\n",
              "      <td>503</td>\n",
              "      <td>239</td>\n",
              "      <td>1213</td>\n",
              "      <td>Khamenei</td>\n",
              "    </tr>\n",
              "  </tbody>\n",
              "</table>\n",
              "</div>"
            ],
            "text/plain": [
              "         hashtag  score  count  ...  replies_count  likes_count        translation\n",
              "0       #الانبار  27576    369  ...           2933         9772              Anbar\n",
              "1        #العراق  27209    611  ...           1292        12173               Iraq\n",
              "2       #الأنبار  24171    612  ...           1188         9952              Anbar\n",
              "3          #داعش  10924     49  ...           1792         3958               Isis\n",
              "4          #عاجل   9994    212  ...            391         4721             Urgent\n",
              "5  #الحشد_الشعبي   7973     53  ...            357         2987  The popular crowd\n",
              "6       #الإرهاب   5274     17  ...            278         1425             Terror\n",
              "7         #إيران   5274     34  ...            276         1481               Iran\n",
              "8     #عين_الأسد   5167     53  ...            195         3267               Lion\n",
              "9        #خامنئي   4445     13  ...            239         1213           Khamenei\n",
              "\n",
              "[10 rows x 7 columns]"
            ]
          },
          "metadata": {
            "tags": []
          },
          "execution_count": 24
        }
      ]
    },
    {
      "cell_type": "code",
      "metadata": {
        "id": "2-q2sFbNvfFQ",
        "colab_type": "code",
        "colab": {
          "base_uri": "https://localhost:8080/",
          "height": 1000
        },
        "outputId": "19f2a39e-624e-4985-8458-95581864dbe9"
      },
      "source": [
        "for i in [1,2]:\n",
        "    sample_tweet_link = df.iloc[i]['link']\n",
        "    display(sample_tweet_link)\n",
        "    twitter_fct.show_tweet(sample_tweet_link)\n"
      ],
      "execution_count": null,
      "outputs": [
        {
          "output_type": "display_data",
          "data": {
            "application/vnd.google.colaboratory.intrinsic+json": {
              "type": "string"
            },
            "text/plain": [
              "'https://twitter.com/MamunNtaah1/status/1275155008313589761'"
            ]
          },
          "metadata": {
            "tags": []
          }
        },
        {
          "output_type": "display_data",
          "data": {
            "text/html": [
              "<blockquote class=\"twitter-tweet\"><p lang=\"ar\" dir=\"rtl\">انطلقت قبل قليل مبادرة <br>الوفاء للراحل  &quot; احمد راضي &quot;<br>حيث قررت عدد من الشخصيات الثقافية والاجتماعية والعشائرية في محافظة الانبار بناء مشروع سكني مصغر كصدقة جارية بأسم الراحل احمد راضي ، ومن خلال حملة تبرعات واسعة ، لإسكان العوائل المتعففة التي لا تمتلك مأوىً يقيها في المحافظة، <a href=\"https://t.co/1ZkLmOnmEz\">pic.twitter.com/1ZkLmOnmEz</a></p>&mdash; مأمون النطاح (@MamunNtaah1) <a href=\"https://twitter.com/MamunNtaah1/status/1275155008313589761?ref_src=twsrc%5Etfw\">June 22, 2020</a></blockquote>\n",
              "<script async src=\"https://platform.twitter.com/widgets.js\" charset=\"utf-8\"></script>\n"
            ],
            "text/plain": [
              "<IPython.core.display.HTML object>"
            ]
          },
          "metadata": {
            "tags": []
          }
        },
        {
          "output_type": "display_data",
          "data": {
            "application/vnd.google.colaboratory.intrinsic+json": {
              "type": "string"
            },
            "text/plain": [
              "'https://twitter.com/ahmedfaresalham/status/1228397304283004928'"
            ]
          },
          "metadata": {
            "tags": []
          }
        },
        {
          "output_type": "display_data",
          "data": {
            "text/html": [
              "<blockquote class=\"twitter-tweet\"><p lang=\"ar\" dir=\"rtl\">وثائق اميركية:<a href=\"https://twitter.com/hashtag/%D8%A7%D8%A8%D9%88_%D9%85%D9%87%D8%AF%D9%8A_%D8%A7%D9%84%D9%85%D9%87%D9%86%D8%AF%D8%B3?src=hash&amp;ref_src=twsrc%5Etfw\">#ابو_مهدي_المهندس</a> اسس قاعدة &quot;الإمام علي&quot; في محافظة دير الزور شرق سورية  بكلفة 60 مليون دولار استقطعها من موازنات محافظات  الأنبار ونينوى وصلاح الدين، بقيمة 20 مليون دولار من كل محافظة وهي قاعدة تخضع لايران <a href=\"https://t.co/pMbTn6PmHJ\">pic.twitter.com/pMbTn6PmHJ</a></p>&mdash; ahmed alhamdani (@ahmedfaresalham) <a href=\"https://twitter.com/ahmedfaresalham/status/1228397304283004928?ref_src=twsrc%5Etfw\">February 14, 2020</a></blockquote>\n",
              "<script async src=\"https://platform.twitter.com/widgets.js\" charset=\"utf-8\"></script>\n"
            ],
            "text/plain": [
              "<IPython.core.display.HTML object>"
            ]
          },
          "metadata": {
            "tags": []
          }
        }
      ]
    },
    {
      "cell_type": "markdown",
      "metadata": {
        "id": "zg5Z2DsHQFDJ",
        "colab_type": "text"
      },
      "source": [
        "### Time series of Hashtags"
      ]
    },
    {
      "cell_type": "code",
      "metadata": {
        "id": "t3rAEXENIiPv",
        "colab_type": "code",
        "colab": {
          "base_uri": "https://localhost:8080/",
          "height": 407
        },
        "outputId": "24e2dd6d-c59a-4990-a852-b349b3d3cbe3"
      },
      "source": [
        "df['isis'] = twitter_fct.ht2var(df,'داعش')\n",
        "df['terror'] = twitter_fct.ht2var(df,'الإرهاب')\n",
        "df['urgent'] = twitter_fct.ht2var(df,'عاجل')\n",
        "df['the_pop_crowd'] = twitter_fct.ht2var(df,'الحشد_الشعبي')\n",
        "df['Khamenei'] = twitter_fct.ht2var(df,'خامنئي')\n",
        "\n",
        "df.groupby('date')[['isis','terror','urgent','the_pop_crowd','Khamenei']].sum().plot(figsize=(15,5))\n",
        "plt.xticks(rotation=45)"
      ],
      "execution_count": null,
      "outputs": [
        {
          "output_type": "execute_result",
          "data": {
            "text/plain": [
              "(array([-50.,   0.,  50., 100., 150., 200., 250., 300.]),\n",
              " <a list of 8 Text major ticklabel objects>)"
            ]
          },
          "metadata": {
            "tags": []
          },
          "execution_count": 26
        },
        {
          "output_type": "display_data",
          "data": {
            "image/png": "[encoded data removed]",
            "text/plain": [
              "<Figure size 1080x360 with 1 Axes>"
            ]
          },
          "metadata": {
            "tags": [],
            "needs_background": "light"
          }
        }
      ]
    },
    {
      "cell_type": "markdown",
      "metadata": {
        "id": "DR-FoR6fQdjJ",
        "colab_type": "text"
      },
      "source": [
        "### Correlation of Hastags"
      ]
    },
    {
      "cell_type": "code",
      "metadata": {
        "id": "r7zzQaCiQVUX",
        "colab_type": "code",
        "colab": {
          "base_uri": "https://localhost:8080/",
          "height": 194
        },
        "outputId": "ced3060a-828b-4465-cf3a-3859499926b7"
      },
      "source": [
        "df[['isis','terror','urgent','the_pop_crowd','Khamenei']].corr()"
      ],
      "execution_count": null,
      "outputs": [
        {
          "output_type": "execute_result",
          "data": {
            "text/html": [
              "<div>\n",
              "<style scoped>\n",
              "    .dataframe tbody tr th:only-of-type {\n",
              "        vertical-align: middle;\n",
              "    }\n",
              "\n",
              "    .dataframe tbody tr th {\n",
              "        vertical-align: top;\n",
              "    }\n",
              "\n",
              "    .dataframe thead th {\n",
              "        text-align: right;\n",
              "    }\n",
              "</style>\n",
              "<table border=\"1\" class=\"dataframe\">\n",
              "  <thead>\n",
              "    <tr style=\"text-align: right;\">\n",
              "      <th></th>\n",
              "      <th>isis</th>\n",
              "      <th>terror</th>\n",
              "      <th>urgent</th>\n",
              "      <th>the_pop_crowd</th>\n",
              "      <th>Khamenei</th>\n",
              "    </tr>\n",
              "  </thead>\n",
              "  <tbody>\n",
              "    <tr>\n",
              "      <th>isis</th>\n",
              "      <td>1.000000</td>\n",
              "      <td>0.213154</td>\n",
              "      <td>-0.030261</td>\n",
              "      <td>0.042054</td>\n",
              "      <td>-0.015328</td>\n",
              "    </tr>\n",
              "    <tr>\n",
              "      <th>terror</th>\n",
              "      <td>0.213154</td>\n",
              "      <td>1.000000</td>\n",
              "      <td>0.027843</td>\n",
              "      <td>0.148141</td>\n",
              "      <td>0.263322</td>\n",
              "    </tr>\n",
              "    <tr>\n",
              "      <th>urgent</th>\n",
              "      <td>-0.030261</td>\n",
              "      <td>0.027843</td>\n",
              "      <td>1.000000</td>\n",
              "      <td>0.085312</td>\n",
              "      <td>0.055278</td>\n",
              "    </tr>\n",
              "    <tr>\n",
              "      <th>the_pop_crowd</th>\n",
              "      <td>0.042054</td>\n",
              "      <td>0.148141</td>\n",
              "      <td>0.085312</td>\n",
              "      <td>1.000000</td>\n",
              "      <td>0.277189</td>\n",
              "    </tr>\n",
              "    <tr>\n",
              "      <th>Khamenei</th>\n",
              "      <td>-0.015328</td>\n",
              "      <td>0.263322</td>\n",
              "      <td>0.055278</td>\n",
              "      <td>0.277189</td>\n",
              "      <td>1.000000</td>\n",
              "    </tr>\n",
              "  </tbody>\n",
              "</table>\n",
              "</div>"
            ],
            "text/plain": [
              "                   isis    terror    urgent  the_pop_crowd  Khamenei\n",
              "isis           1.000000  0.213154 -0.030261       0.042054 -0.015328\n",
              "terror         0.213154  1.000000  0.027843       0.148141  0.263322\n",
              "urgent        -0.030261  0.027843  1.000000       0.085312  0.055278\n",
              "the_pop_crowd  0.042054  0.148141  0.085312       1.000000  0.277189\n",
              "Khamenei      -0.015328  0.263322  0.055278       0.277189  1.000000"
            ]
          },
          "metadata": {
            "tags": []
          },
          "execution_count": 27
        }
      ]
    },
    {
      "cell_type": "markdown",
      "metadata": {
        "id": "41mFNl2sRDr_",
        "colab_type": "text"
      },
      "source": [
        "### Context by Hashtag"
      ]
    },
    {
      "cell_type": "code",
      "metadata": {
        "id": "Dk8WWrC4JYHK",
        "colab_type": "code",
        "colab": {}
      },
      "source": [
        "from googletransx import Translator\n",
        "# ref.  - https://github.com/x0rzkov/py-googletrans#basic-usage\n",
        "\n",
        "translator = Translator()\n",
        "\n",
        "def word_count(str,no):\n",
        "    counts = dict()\n",
        "    words = str.split()\n",
        "\n",
        "    for word in words:\n",
        "        if word in counts:\n",
        "            counts[word] += 1\n",
        "        else:\n",
        "            counts[word] = 1\n",
        "    sorted_dict = [(translator.translate(a.replace('#',''), dest='en').text,b) for a,b in sorted(counts.items(), key=lambda item: item[1])[-no:]]\n",
        "    #sorted_list = sorted_dict.items()\n",
        "    return sorted_dict\n"
      ],
      "execution_count": null,
      "outputs": []
    },
    {
      "cell_type": "code",
      "metadata": {
        "id": "TGYduEt-KmjE",
        "colab_type": "code",
        "colab": {}
      },
      "source": [
        "isis_txt = ' '.join([sen for sen in  df['tweet'][df['isis']==1]])"
      ],
      "execution_count": null,
      "outputs": []
    },
    {
      "cell_type": "code",
      "metadata": {
        "id": "p0_o7M3CKlNT",
        "colab_type": "code",
        "colab": {
          "base_uri": "https://localhost:8080/",
          "height": 284
        },
        "outputId": "174d6165-38bf-4893-d83c-43cb042137d5"
      },
      "source": [
        "word_count(isis_txt,15)"
      ],
      "execution_count": null,
      "outputs": [
        {
          "output_type": "execute_result",
          "data": {
            "text/plain": [
              "[('،', 45),\n",
              " ('Iraq', 48),\n",
              " ('The crowd', 48),\n",
              " ('distance', 51),\n",
              " ('Before', 52),\n",
              " ('group', 54),\n",
              " ('And', 60),\n",
              " ('About', 64),\n",
              " ('Anbar', 138),\n",
              " ('On', 188),\n",
              " ('Anbar', 212),\n",
              " ('Isis', 310),\n",
              " ('Governorate', 400),\n",
              " ('From', 434),\n",
              " ('in a', 486)]"
            ]
          },
          "metadata": {
            "tags": []
          },
          "execution_count": 30
        }
      ]
    },
    {
      "cell_type": "code",
      "metadata": {
        "id": "CfynWS9muKwo",
        "colab_type": "code",
        "colab": {}
      },
      "source": [
        ""
      ],
      "execution_count": null,
      "outputs": []
    },
    {
      "cell_type": "markdown",
      "metadata": {
        "id": "56ynQxVlK52i",
        "colab_type": "text"
      },
      "source": [
        "### show most influencial users"
      ]
    },
    {
      "cell_type": "code",
      "metadata": {
        "id": "wvs9bIZxHpBN",
        "colab_type": "code",
        "colab": {
          "base_uri": "https://localhost:8080/",
          "height": 396
        },
        "outputId": "1c910c41-6343-4264-dfc6-0b7791685f43"
      },
      "source": [
        "tw_user = twitter_fct.mvu(df,10)\n",
        "tw_user"
      ],
      "execution_count": null,
      "outputs": [
        {
          "output_type": "stream",
          "text": [
            "/content/fragile_context/twitter_fct.py:109: FutureWarning: Indexing with multiple keys (implicitly converted to a tuple of keys) will be deprecated, use a list instead.\n",
            "  hashtags_g = hashtags.groupby('username')['score','count','retweets_count','replies_count','likes_count'].sum()\n"
          ],
          "name": "stderr"
        },
        {
          "output_type": "execute_result",
          "data": {
            "text/html": [
              "<div>\n",
              "<style scoped>\n",
              "    .dataframe tbody tr th:only-of-type {\n",
              "        vertical-align: middle;\n",
              "    }\n",
              "\n",
              "    .dataframe tbody tr th {\n",
              "        vertical-align: top;\n",
              "    }\n",
              "\n",
              "    .dataframe thead th {\n",
              "        text-align: right;\n",
              "    }\n",
              "</style>\n",
              "<table border=\"1\" class=\"dataframe\">\n",
              "  <thead>\n",
              "    <tr style=\"text-align: right;\">\n",
              "      <th></th>\n",
              "      <th>username</th>\n",
              "      <th>score</th>\n",
              "      <th>count</th>\n",
              "      <th>retweets_count</th>\n",
              "      <th>replies_count</th>\n",
              "      <th>likes_count</th>\n",
              "    </tr>\n",
              "  </thead>\n",
              "  <tbody>\n",
              "    <tr>\n",
              "      <th>0</th>\n",
              "      <td>thepennyhoarder</td>\n",
              "      <td>77401</td>\n",
              "      <td>1</td>\n",
              "      <td>3452</td>\n",
              "      <td>3246</td>\n",
              "      <td>50403</td>\n",
              "    </tr>\n",
              "    <tr>\n",
              "      <th>1</th>\n",
              "      <td>dr_daark</td>\n",
              "      <td>14544</td>\n",
              "      <td>47</td>\n",
              "      <td>1205</td>\n",
              "      <td>735</td>\n",
              "      <td>6314</td>\n",
              "    </tr>\n",
              "    <tr>\n",
              "      <th>2</th>\n",
              "      <td>hushamalhashimi</td>\n",
              "      <td>7135</td>\n",
              "      <td>5</td>\n",
              "      <td>271</td>\n",
              "      <td>428</td>\n",
              "      <td>4496</td>\n",
              "    </tr>\n",
              "    <tr>\n",
              "      <th>3</th>\n",
              "      <td>mustafakamilm</td>\n",
              "      <td>6543</td>\n",
              "      <td>23</td>\n",
              "      <td>734</td>\n",
              "      <td>348</td>\n",
              "      <td>1829</td>\n",
              "    </tr>\n",
              "    <tr>\n",
              "      <th>4</th>\n",
              "      <td>omartvsd</td>\n",
              "      <td>6340</td>\n",
              "      <td>8</td>\n",
              "      <td>342</td>\n",
              "      <td>282</td>\n",
              "      <td>3784</td>\n",
              "    </tr>\n",
              "    <tr>\n",
              "      <th>5</th>\n",
              "      <td>ahmedfaresalham</td>\n",
              "      <td>6116</td>\n",
              "      <td>6</td>\n",
              "      <td>461</td>\n",
              "      <td>227</td>\n",
              "      <td>3130</td>\n",
              "    </tr>\n",
              "    <tr>\n",
              "      <th>6</th>\n",
              "      <td>jouma_anad</td>\n",
              "      <td>5816</td>\n",
              "      <td>3</td>\n",
              "      <td>65</td>\n",
              "      <td>1531</td>\n",
              "      <td>898</td>\n",
              "    </tr>\n",
              "    <tr>\n",
              "      <th>7</th>\n",
              "      <td>amsiiraq</td>\n",
              "      <td>5751</td>\n",
              "      <td>18</td>\n",
              "      <td>946</td>\n",
              "      <td>13</td>\n",
              "      <td>982</td>\n",
              "    </tr>\n",
              "    <tr>\n",
              "      <th>8</th>\n",
              "      <td>mamunntaah1</td>\n",
              "      <td>5487</td>\n",
              "      <td>1</td>\n",
              "      <td>330</td>\n",
              "      <td>310</td>\n",
              "      <td>2907</td>\n",
              "    </tr>\n",
              "    <tr>\n",
              "      <th>9</th>\n",
              "      <td>alhakamali91</td>\n",
              "      <td>5253</td>\n",
              "      <td>3</td>\n",
              "      <td>386</td>\n",
              "      <td>751</td>\n",
              "      <td>1070</td>\n",
              "    </tr>\n",
              "  </tbody>\n",
              "</table>\n",
              "</div>"
            ],
            "text/plain": [
              "          username  score  count  retweets_count  replies_count  likes_count\n",
              "0  thepennyhoarder  77401      1            3452           3246        50403\n",
              "1         dr_daark  14544     47            1205            735         6314\n",
              "2  hushamalhashimi   7135      5             271            428         4496\n",
              "3    mustafakamilm   6543     23             734            348         1829\n",
              "4         omartvsd   6340      8             342            282         3784\n",
              "5  ahmedfaresalham   6116      6             461            227         3130\n",
              "6       jouma_anad   5816      3              65           1531          898\n",
              "7         amsiiraq   5751     18             946             13          982\n",
              "8      mamunntaah1   5487      1             330            310         2907\n",
              "9     alhakamali91   5253      3             386            751         1070"
            ]
          },
          "metadata": {
            "tags": []
          },
          "execution_count": 31
        }
      ]
    },
    {
      "cell_type": "code",
      "metadata": {
        "id": "0OdoNU-RHpEk",
        "colab_type": "code",
        "colab": {
          "base_uri": "https://localhost:8080/",
          "height": 1000
        },
        "outputId": "7b555dc0-a188-4c56-9b84-7448c2982c22"
      },
      "source": [
        "for users in tw_user['username'][:3]:\n",
        "    sample_tweet_link = df[df['username']==users].iloc[0]['link']\n",
        "    display(sample_tweet_link)\n",
        "    twitter_fct.show_tweet(sample_tweet_link)"
      ],
      "execution_count": null,
      "outputs": [
        {
          "output_type": "display_data",
          "data": {
            "application/vnd.google.colaboratory.intrinsic+json": {
              "type": "string"
            },
            "text/plain": [
              "'https://twitter.com/thepennyhoarder/status/1256599637441548290'"
            ]
          },
          "metadata": {
            "tags": []
          }
        },
        {
          "output_type": "display_data",
          "data": {
            "text/html": [
              "<blockquote class=\"twitter-tweet\"><p lang=\"en\" dir=\"ltr\">Here&#39;s what rich people are doing with their money right now...</p>&mdash; The Penny Hoarder (@thepennyhoarder) <a href=\"https://twitter.com/thepennyhoarder/status/1256599637441548290?ref_src=twsrc%5Etfw\">May 2, 2020</a></blockquote>\n",
              "<script async src=\"https://platform.twitter.com/widgets.js\" charset=\"utf-8\"></script>\n"
            ],
            "text/plain": [
              "<IPython.core.display.HTML object>"
            ]
          },
          "metadata": {
            "tags": []
          }
        },
        {
          "output_type": "display_data",
          "data": {
            "application/vnd.google.colaboratory.intrinsic+json": {
              "type": "string"
            },
            "text/plain": [
              "'https://twitter.com/Dr_Daark/status/1242941242100658176'"
            ]
          },
          "metadata": {
            "tags": []
          }
        },
        {
          "output_type": "display_data",
          "data": {
            "text/html": [
              "<blockquote class=\"twitter-tweet\"><p lang=\"ar\" dir=\"rtl\">مساعدات غذائية أمر بها السيستاني و أعلنها مندوبه الكربلائي مناطق التوزيع محافظة الانبار و مناطق السنة في بغداد...أرجو تحذير الاحباب و الأصحاب بعدم استلام إي مساعدات مهما كان مصدرها لاحتمال أن تكون ملوثة بالكورونا...علما بأن المرجعية لم تفعل مثل هذه الإجراءات في أزمات سابقة للسنة</p>&mdash; د. دارك (@Dr_Daark) <a href=\"https://twitter.com/Dr_Daark/status/1242941242100658176?ref_src=twsrc%5Etfw\">March 25, 2020</a></blockquote>\n",
              "<script async src=\"https://platform.twitter.com/widgets.js\" charset=\"utf-8\"></script>\n"
            ],
            "text/plain": [
              "<IPython.core.display.HTML object>"
            ]
          },
          "metadata": {
            "tags": []
          }
        },
        {
          "output_type": "display_data",
          "data": {
            "application/vnd.google.colaboratory.intrinsic+json": {
              "type": "string"
            },
            "text/plain": [
              "'https://twitter.com/hushamalhashimi/status/1224981084368179200'"
            ]
          },
          "metadata": {
            "tags": []
          }
        },
        {
          "output_type": "display_data",
          "data": {
            "text/html": [
              "<blockquote class=\"twitter-tweet\"><p lang=\"ar\" dir=\"rtl\">صور جميلة من شوارع مدينة الرمادي مركز محافظة الأنبار..لمثل ذلك فليتنافس المحافظون. <a href=\"https://t.co/scJFxN2WQx\">pic.twitter.com/scJFxN2WQx</a></p>&mdash; Husham Alhashimi هشام الهاشمي (@hushamalhashimi) <a href=\"https://twitter.com/hushamalhashimi/status/1224981084368179200?ref_src=twsrc%5Etfw\">February 5, 2020</a></blockquote>\n",
              "<script async src=\"https://platform.twitter.com/widgets.js\" charset=\"utf-8\"></script>\n"
            ],
            "text/plain": [
              "<IPython.core.display.HTML object>"
            ]
          },
          "metadata": {
            "tags": []
          }
        }
      ]
    },
    {
      "cell_type": "code",
      "metadata": {
        "id": "BjlQC7bPLLpl",
        "colab_type": "code",
        "colab": {
          "base_uri": "https://localhost:8080/",
          "height": 799
        },
        "outputId": "104e2289-69bd-4235-e750-cece2f08f87c"
      },
      "source": [
        "#%%capture\n",
        "!twint -u 'د. دارك' --csv --output dr_daark.csv --limit 100"
      ],
      "execution_count": null,
      "outputs": [
        {
          "output_type": "stream",
          "text": [
            "CRITICAL:root:twint.get:User:'NoneType' object is not subscriptable\n",
            "CRITICAL:root:twint.run:Twint:Feed:noDataExpecting value: line 1 column 1 (char 0)\n",
            "sleeping for 15 secs\n",
            "Traceback (most recent call last):\n",
            "  File \"/usr/local/lib/python3.6/dist-packages/twint/run.py\", line 65, in Feed\n",
            "    self.feed, self.init = feed.Json(response)\n",
            "  File \"/usr/local/lib/python3.6/dist-packages/twint/feed.py\", line 42, in Json\n",
            "    json_response = loads(response)\n",
            "  File \"/usr/lib/python3.6/json/__init__.py\", line 354, in loads\n",
            "    return _default_decoder.decode(s)\n",
            "  File \"/usr/lib/python3.6/json/decoder.py\", line 339, in decode\n",
            "    obj, end = self.raw_decode(s, idx=_w(s, 0).end())\n",
            "  File \"/usr/lib/python3.6/json/decoder.py\", line 357, in raw_decode\n",
            "    raise JSONDecodeError(\"Expecting value\", s, err.value) from None\n",
            "json.decoder.JSONDecodeError: Expecting value: line 1 column 1 (char 0)\n",
            "\n",
            "During handling of the above exception, another exception occurred:\n",
            "\n",
            "Traceback (most recent call last):\n",
            "  File \"/usr/local/bin/twint\", line 8, in <module>\n",
            "    sys.exit(run_as_command())\n",
            "  File \"/usr/local/lib/python3.6/dist-packages/twint/cli.py\", line 305, in run_as_command\n",
            "    main()\n",
            "  File \"/usr/local/lib/python3.6/dist-packages/twint/cli.py\", line 297, in main\n",
            "    run.Search(c)\n",
            "  File \"/usr/local/lib/python3.6/dist-packages/twint/run.py\", line 327, in Search\n",
            "    run(config, callback)\n",
            "  File \"/usr/local/lib/python3.6/dist-packages/twint/run.py\", line 226, in run\n",
            "    get_event_loop().run_until_complete(Twint(config).main(callback))\n",
            "  File \"/usr/lib/python3.6/asyncio/base_events.py\", line 471, in run_until_complete\n",
            "    self.run_forever()\n",
            "  File \"/usr/lib/python3.6/asyncio/base_events.py\", line 438, in run_forever\n",
            "    self._run_once()\n",
            "  File \"/usr/lib/python3.6/asyncio/base_events.py\", line 1451, in _run_once\n",
            "    handle._run()\n",
            "  File \"/usr/lib/python3.6/asyncio/events.py\", line 145, in _run\n",
            "    self._callback(*self._args)\n",
            "  File \"/usr/local/lib/python3.6/dist-packages/twint/run.py\", line 199, in run\n",
            "    await self.tweets()\n",
            "  File \"/usr/local/lib/python3.6/dist-packages/twint/run.py\", line 137, in tweets\n",
            "    await self.Feed()\n",
            "  File \"/usr/local/lib/python3.6/dist-packages/twint/run.py\", line 98, in Feed\n",
            "    time.sleep(delay)\n",
            "KeyboardInterrupt\n"
          ],
          "name": "stdout"
        }
      ]
    },
    {
      "cell_type": "code",
      "metadata": {
        "id": "sewSCnz2auvi",
        "colab_type": "code",
        "colab": {
          "base_uri": "https://localhost:8080/",
          "height": 35
        },
        "outputId": "b246ca6d-b2cc-45f7-fd2e-84433f8b753d"
      },
      "source": [
        "!ls fragile_context"
      ],
      "execution_count": null,
      "outputs": [
        {
          "output_type": "stream",
          "text": [
            "__pycache__  README.md\trequirements.txt  twitter_fct.py\n"
          ],
          "name": "stdout"
        }
      ]
    },
    {
      "cell_type": "code",
      "metadata": {
        "id": "OKlG0WO1LywK",
        "colab_type": "code",
        "colab": {
          "base_uri": "https://localhost:8080/",
          "height": 388
        },
        "outputId": "078f3b8f-4827-41b1-dc8c-2c4a77916a26"
      },
      "source": [
        "df_daark = pd.read_csv('dr_daark.csv')"
      ],
      "execution_count": null,
      "outputs": [
        {
          "output_type": "error",
          "ename": "FileNotFoundError",
          "evalue": "ignored",
          "traceback": [
            "\u001b[0;31m---------------------------------------------------------------------------\u001b[0m",
            "\u001b[0;31mFileNotFoundError\u001b[0m                         Traceback (most recent call last)",
            "\u001b[0;32m<ipython-input-38-89b360369103>\u001b[0m in \u001b[0;36m<module>\u001b[0;34m()\u001b[0m\n\u001b[0;32m----> 1\u001b[0;31m \u001b[0mdf_daark\u001b[0m \u001b[0;34m=\u001b[0m \u001b[0mpd\u001b[0m\u001b[0;34m.\u001b[0m\u001b[0mread_csv\u001b[0m\u001b[0;34m(\u001b[0m\u001b[0;34m'dr_daark.csv'\u001b[0m\u001b[0;34m)\u001b[0m\u001b[0;34m\u001b[0m\u001b[0;34m\u001b[0m\u001b[0m\n\u001b[0m",
            "\u001b[0;32m/usr/local/lib/python3.6/dist-packages/pandas/io/parsers.py\u001b[0m in \u001b[0;36mparser_f\u001b[0;34m(filepath_or_buffer, sep, delimiter, header, names, index_col, usecols, squeeze, prefix, mangle_dupe_cols, dtype, engine, converters, true_values, false_values, skipinitialspace, skiprows, skipfooter, nrows, na_values, keep_default_na, na_filter, verbose, skip_blank_lines, parse_dates, infer_datetime_format, keep_date_col, date_parser, dayfirst, cache_dates, iterator, chunksize, compression, thousands, decimal, lineterminator, quotechar, quoting, doublequote, escapechar, comment, encoding, dialect, error_bad_lines, warn_bad_lines, delim_whitespace, low_memory, memory_map, float_precision)\u001b[0m\n\u001b[1;32m    674\u001b[0m         )\n\u001b[1;32m    675\u001b[0m \u001b[0;34m\u001b[0m\u001b[0m\n\u001b[0;32m--> 676\u001b[0;31m         \u001b[0;32mreturn\u001b[0m \u001b[0m_read\u001b[0m\u001b[0;34m(\u001b[0m\u001b[0mfilepath_or_buffer\u001b[0m\u001b[0;34m,\u001b[0m \u001b[0mkwds\u001b[0m\u001b[0;34m)\u001b[0m\u001b[0;34m\u001b[0m\u001b[0;34m\u001b[0m\u001b[0m\n\u001b[0m\u001b[1;32m    677\u001b[0m \u001b[0;34m\u001b[0m\u001b[0m\n\u001b[1;32m    678\u001b[0m     \u001b[0mparser_f\u001b[0m\u001b[0;34m.\u001b[0m\u001b[0m__name__\u001b[0m \u001b[0;34m=\u001b[0m \u001b[0mname\u001b[0m\u001b[0;34m\u001b[0m\u001b[0;34m\u001b[0m\u001b[0m\n",
            "\u001b[0;32m/usr/local/lib/python3.6/dist-packages/pandas/io/parsers.py\u001b[0m in \u001b[0;36m_read\u001b[0;34m(filepath_or_buffer, kwds)\u001b[0m\n\u001b[1;32m    446\u001b[0m \u001b[0;34m\u001b[0m\u001b[0m\n\u001b[1;32m    447\u001b[0m     \u001b[0;31m# Create the parser.\u001b[0m\u001b[0;34m\u001b[0m\u001b[0;34m\u001b[0m\u001b[0;34m\u001b[0m\u001b[0m\n\u001b[0;32m--> 448\u001b[0;31m     \u001b[0mparser\u001b[0m \u001b[0;34m=\u001b[0m \u001b[0mTextFileReader\u001b[0m\u001b[0;34m(\u001b[0m\u001b[0mfp_or_buf\u001b[0m\u001b[0;34m,\u001b[0m \u001b[0;34m**\u001b[0m\u001b[0mkwds\u001b[0m\u001b[0;34m)\u001b[0m\u001b[0;34m\u001b[0m\u001b[0;34m\u001b[0m\u001b[0m\n\u001b[0m\u001b[1;32m    449\u001b[0m \u001b[0;34m\u001b[0m\u001b[0m\n\u001b[1;32m    450\u001b[0m     \u001b[0;32mif\u001b[0m \u001b[0mchunksize\u001b[0m \u001b[0;32mor\u001b[0m \u001b[0miterator\u001b[0m\u001b[0;34m:\u001b[0m\u001b[0;34m\u001b[0m\u001b[0;34m\u001b[0m\u001b[0m\n",
            "\u001b[0;32m/usr/local/lib/python3.6/dist-packages/pandas/io/parsers.py\u001b[0m in \u001b[0;36m__init__\u001b[0;34m(self, f, engine, **kwds)\u001b[0m\n\u001b[1;32m    878\u001b[0m             \u001b[0mself\u001b[0m\u001b[0;34m.\u001b[0m\u001b[0moptions\u001b[0m\u001b[0;34m[\u001b[0m\u001b[0;34m\"has_index_names\"\u001b[0m\u001b[0;34m]\u001b[0m \u001b[0;34m=\u001b[0m \u001b[0mkwds\u001b[0m\u001b[0;34m[\u001b[0m\u001b[0;34m\"has_index_names\"\u001b[0m\u001b[0;34m]\u001b[0m\u001b[0;34m\u001b[0m\u001b[0;34m\u001b[0m\u001b[0m\n\u001b[1;32m    879\u001b[0m \u001b[0;34m\u001b[0m\u001b[0m\n\u001b[0;32m--> 880\u001b[0;31m         \u001b[0mself\u001b[0m\u001b[0;34m.\u001b[0m\u001b[0m_make_engine\u001b[0m\u001b[0;34m(\u001b[0m\u001b[0mself\u001b[0m\u001b[0;34m.\u001b[0m\u001b[0mengine\u001b[0m\u001b[0;34m)\u001b[0m\u001b[0;34m\u001b[0m\u001b[0;34m\u001b[0m\u001b[0m\n\u001b[0m\u001b[1;32m    881\u001b[0m \u001b[0;34m\u001b[0m\u001b[0m\n\u001b[1;32m    882\u001b[0m     \u001b[0;32mdef\u001b[0m \u001b[0mclose\u001b[0m\u001b[0;34m(\u001b[0m\u001b[0mself\u001b[0m\u001b[0;34m)\u001b[0m\u001b[0;34m:\u001b[0m\u001b[0;34m\u001b[0m\u001b[0;34m\u001b[0m\u001b[0m\n",
            "\u001b[0;32m/usr/local/lib/python3.6/dist-packages/pandas/io/parsers.py\u001b[0m in \u001b[0;36m_make_engine\u001b[0;34m(self, engine)\u001b[0m\n\u001b[1;32m   1112\u001b[0m     \u001b[0;32mdef\u001b[0m \u001b[0m_make_engine\u001b[0m\u001b[0;34m(\u001b[0m\u001b[0mself\u001b[0m\u001b[0;34m,\u001b[0m \u001b[0mengine\u001b[0m\u001b[0;34m=\u001b[0m\u001b[0;34m\"c\"\u001b[0m\u001b[0;34m)\u001b[0m\u001b[0;34m:\u001b[0m\u001b[0;34m\u001b[0m\u001b[0;34m\u001b[0m\u001b[0m\n\u001b[1;32m   1113\u001b[0m         \u001b[0;32mif\u001b[0m \u001b[0mengine\u001b[0m \u001b[0;34m==\u001b[0m \u001b[0;34m\"c\"\u001b[0m\u001b[0;34m:\u001b[0m\u001b[0;34m\u001b[0m\u001b[0;34m\u001b[0m\u001b[0m\n\u001b[0;32m-> 1114\u001b[0;31m             \u001b[0mself\u001b[0m\u001b[0;34m.\u001b[0m\u001b[0m_engine\u001b[0m \u001b[0;34m=\u001b[0m \u001b[0mCParserWrapper\u001b[0m\u001b[0;34m(\u001b[0m\u001b[0mself\u001b[0m\u001b[0;34m.\u001b[0m\u001b[0mf\u001b[0m\u001b[0;34m,\u001b[0m \u001b[0;34m**\u001b[0m\u001b[0mself\u001b[0m\u001b[0;34m.\u001b[0m\u001b[0moptions\u001b[0m\u001b[0;34m)\u001b[0m\u001b[0;34m\u001b[0m\u001b[0;34m\u001b[0m\u001b[0m\n\u001b[0m\u001b[1;32m   1115\u001b[0m         \u001b[0;32melse\u001b[0m\u001b[0;34m:\u001b[0m\u001b[0;34m\u001b[0m\u001b[0;34m\u001b[0m\u001b[0m\n\u001b[1;32m   1116\u001b[0m             \u001b[0;32mif\u001b[0m \u001b[0mengine\u001b[0m \u001b[0;34m==\u001b[0m \u001b[0;34m\"python\"\u001b[0m\u001b[0;34m:\u001b[0m\u001b[0;34m\u001b[0m\u001b[0;34m\u001b[0m\u001b[0m\n",
            "\u001b[0;32m/usr/local/lib/python3.6/dist-packages/pandas/io/parsers.py\u001b[0m in \u001b[0;36m__init__\u001b[0;34m(self, src, **kwds)\u001b[0m\n\u001b[1;32m   1889\u001b[0m         \u001b[0mkwds\u001b[0m\u001b[0;34m[\u001b[0m\u001b[0;34m\"usecols\"\u001b[0m\u001b[0;34m]\u001b[0m \u001b[0;34m=\u001b[0m \u001b[0mself\u001b[0m\u001b[0;34m.\u001b[0m\u001b[0musecols\u001b[0m\u001b[0;34m\u001b[0m\u001b[0;34m\u001b[0m\u001b[0m\n\u001b[1;32m   1890\u001b[0m \u001b[0;34m\u001b[0m\u001b[0m\n\u001b[0;32m-> 1891\u001b[0;31m         \u001b[0mself\u001b[0m\u001b[0;34m.\u001b[0m\u001b[0m_reader\u001b[0m \u001b[0;34m=\u001b[0m \u001b[0mparsers\u001b[0m\u001b[0;34m.\u001b[0m\u001b[0mTextReader\u001b[0m\u001b[0;34m(\u001b[0m\u001b[0msrc\u001b[0m\u001b[0;34m,\u001b[0m \u001b[0;34m**\u001b[0m\u001b[0mkwds\u001b[0m\u001b[0;34m)\u001b[0m\u001b[0;34m\u001b[0m\u001b[0;34m\u001b[0m\u001b[0m\n\u001b[0m\u001b[1;32m   1892\u001b[0m         \u001b[0mself\u001b[0m\u001b[0;34m.\u001b[0m\u001b[0munnamed_cols\u001b[0m \u001b[0;34m=\u001b[0m \u001b[0mself\u001b[0m\u001b[0;34m.\u001b[0m\u001b[0m_reader\u001b[0m\u001b[0;34m.\u001b[0m\u001b[0munnamed_cols\u001b[0m\u001b[0;34m\u001b[0m\u001b[0;34m\u001b[0m\u001b[0m\n\u001b[1;32m   1893\u001b[0m \u001b[0;34m\u001b[0m\u001b[0m\n",
            "\u001b[0;32mpandas/_libs/parsers.pyx\u001b[0m in \u001b[0;36mpandas._libs.parsers.TextReader.__cinit__\u001b[0;34m()\u001b[0m\n",
            "\u001b[0;32mpandas/_libs/parsers.pyx\u001b[0m in \u001b[0;36mpandas._libs.parsers.TextReader._setup_parser_source\u001b[0;34m()\u001b[0m\n",
            "\u001b[0;31mFileNotFoundError\u001b[0m: [Errno 2] File dr_daark.csv does not exist: 'dr_daark.csv'"
          ]
        }
      ]
    },
    {
      "cell_type": "code",
      "metadata": {
        "id": "B1KnQy-xPq-x",
        "colab_type": "code",
        "colab": {}
      },
      "source": [
        "twitter_fct.mvh(df_daark,10)"
      ],
      "execution_count": null,
      "outputs": []
    },
    {
      "cell_type": "code",
      "metadata": {
        "id": "GTrEqQsWPzD-",
        "colab_type": "code",
        "colab": {}
      },
      "source": [
        ""
      ],
      "execution_count": null,
      "outputs": []
    }
  ]
}